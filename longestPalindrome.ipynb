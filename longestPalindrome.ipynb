{
  "nbformat": 4,
  "nbformat_minor": 0,
  "metadata": {
    "colab": {
      "name": "longestPalindrome.ipynb",
      "provenance": [],
      "authorship_tag": "ABX9TyNUBmSpsFCyhxUdJqjAi8qw",
      "include_colab_link": true
    },
    "kernelspec": {
      "name": "python3",
      "display_name": "Python 3"
    }
  },
  "cells": [
    {
      "cell_type": "markdown",
      "metadata": {
        "id": "view-in-github",
        "colab_type": "text"
      },
      "source": [
        "<a href=\"https://colab.research.google.com/github/msrana172/Python-Programs/blob/master/longestPalindrome.ipynb\" target=\"_parent\"><img src=\"https://colab.research.google.com/assets/colab-badge.svg\" alt=\"Open In Colab\"/></a>"
      ]
    },
    {
      "cell_type": "markdown",
      "metadata": {
        "id": "2NqDOHFcNuMT"
      },
      "source": [
        "**Find the longest Palindrome string in a string**"
      ]
    },
    {
      "cell_type": "code",
      "metadata": {
        "id": "85rOuS1bNDj1",
        "outputId": "37e33d1d-82aa-4a19-bd34-aa3f0db6a6db",
        "colab": {
          "base_uri": "https://localhost:8080/"
        }
      },
      "source": [
        "def longestPalindrome(string):\n",
        "    palindrome = ''\n",
        "    for i in range(len(string)):\n",
        "\n",
        "        # loop through the input string \n",
        "        for j in range(len(string), i, -1):\n",
        "\n",
        "            # break it if out of range\n",
        "            if len(palindrome) >= j-i :\n",
        "                break\n",
        "            # update variable if matches\n",
        "            if s[i:j] == s[i:j][::-1]:\n",
        "                palindrome = s[i:j]\n",
        "                break\n",
        "    return palindrome\n",
        "s = \"malylam\"\n",
        "print(longestPalindrome(s))"
      ],
      "execution_count": 1,
      "outputs": [
        {
          "output_type": "stream",
          "text": [
            "malylam\n"
          ],
          "name": "stdout"
        }
      ]
    },
    {
      "cell_type": "code",
      "metadata": {
        "id": "EUO9XIGKOdbW"
      },
      "source": [
        ""
      ],
      "execution_count": null,
      "outputs": []
    }
  ]
}