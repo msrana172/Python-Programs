{
  "nbformat": 4,
  "nbformat_minor": 0,
  "metadata": {
    "colab": {
      "name": "Python_Programs_1.ipynb",
      "provenance": [],
      "authorship_tag": "ABX9TyPYUXYuqX+Fp6aHz0ICpvUy",
      "include_colab_link": true
    },
    "kernelspec": {
      "name": "python3",
      "display_name": "Python 3"
    }
  },
  "cells": [
    {
      "cell_type": "markdown",
      "metadata": {
        "id": "view-in-github",
        "colab_type": "text"
      },
      "source": [
        "<a href=\"https://colab.research.google.com/github/msrana172/Python-Programs/blob/master/Python_Programs_1.ipynb\" target=\"_parent\"><img src=\"https://colab.research.google.com/assets/colab-badge.svg\" alt=\"Open In Colab\"/></a>"
      ]
    },
    {
      "cell_type": "markdown",
      "metadata": {
        "id": "LTKjwgB2_4eb"
      },
      "source": [
        "**Print the repeating characters**"
      ]
    },
    {
      "cell_type": "code",
      "metadata": {
        "id": "s6Z-iwm__rjl",
        "colab": {
          "base_uri": "https://localhost:8080/",
          "height": 35
        },
        "outputId": "b53875ce-0eea-4cd3-da83-9dcd99fce16a"
      },
      "source": [
        "arr = [1, 2, 3, 4, 5, 4, 3, 1]\n",
        "n = len(arr)\n",
        "# repeted = []\n",
        "for i in range(n):\n",
        "    for j in range(i+1, n):\n",
        "        if arr[i] == arr[j]:\n",
        "            # repeted.append(arr[j])\n",
        "            print(arr[i], end = \" \")"
      ],
      "execution_count": null,
      "outputs": [
        {
          "output_type": "stream",
          "text": [
            "1 3 4 "
          ],
          "name": "stdout"
        }
      ]
    },
    {
      "cell_type": "code",
      "metadata": {
        "id": "GP-9YSCJR0Cr"
      },
      "source": [
        "t=int(input()) #number of test cases\n",
        "for _ in range(t):\n",
        "    n=int(input()) # no. of array elements\n",
        "    l=[int(x) for x in input().split()]  #array elements\n",
        "    for i in range(1,n-1):\n",
        "        if l.count(i)==2:  # using count function to count the elements\n",
        "            print(i,end=' ')\n",
        "    print()"
      ],
      "execution_count": null,
      "outputs": []
    },
    {
      "cell_type": "markdown",
      "metadata": {
        "id": "s3qRA8pSBaR_"
      },
      "source": [
        "**Find the largest palindrome string in a string**"
      ]
    },
    {
      "cell_type": "code",
      "metadata": {
        "id": "-_bAZSJIAeTE"
      },
      "source": [
        "def LongestPalindrome(s):\n",
        "    n = len(s)\n",
        "    # Create a string to store our resultant palindrome\n",
        "    palindrome = ''\n",
        " \n",
        "    # loop through the input string\n",
        "    for i in range(n):\n",
        " \n",
        "        # loop backwards through the input string\n",
        "        for j in range(n, i, -1):\n",
        " \n",
        "            # Break if out of range\n",
        "            if len(palindrome) >= j-i:\n",
        "                break\n",
        " \n",
        "            # Update variable if matches\n",
        "            elif s[i:j] == s[i:j][::-1]:\n",
        "                palindrome = s[i:j]\n",
        "                break\n",
        " \n",
        "    return palindrome"
      ],
      "execution_count": null,
      "outputs": []
    },
    {
      "cell_type": "code",
      "metadata": {
        "id": "P73b97zEAlv0",
        "colab": {
          "base_uri": "https://localhost:8080/",
          "height": 35
        },
        "outputId": "3bd11da6-b470-4047-db0d-ea57845e7b09"
      },
      "source": [
        "string = 'abfgerccdedccfgfer'\n",
        "LongestPalindrome(string)"
      ],
      "execution_count": null,
      "outputs": [
        {
          "output_type": "execute_result",
          "data": {
            "application/vnd.google.colaboratory.intrinsic+json": {
              "type": "string"
            },
            "text/plain": [
              "'ccdedcc'"
            ]
          },
          "metadata": {
            "tags": []
          },
          "execution_count": 7
        }
      ]
    },
    {
      "cell_type": "markdown",
      "metadata": {
        "id": "733_F0i5fUJV"
      },
      "source": [
        "Filter Method in Pyhton"
      ]
    },
    {
      "cell_type": "code",
      "metadata": {
        "id": "D2Pi9-j-DUzu",
        "colab": {
          "base_uri": "https://localhost:8080/",
          "height": 35
        },
        "outputId": "984f4b4d-c5b2-43a1-b408-73e9c898a3dc"
      },
      "source": [
        "##function that filters vowels\n",
        "def filterVowels(letter):\n",
        "    vowels = ['a', 'e', 'i', 'o', 'u']\n",
        "    if letter in vowels:\n",
        "        return True\n",
        "    else: \n",
        "        return False\n",
        "        \n",
        "letters = ['a', 'b', 'd', 'e', 'f', 'i', 'j', 'k', 'o']\n",
        "filetredVowels = filter(filterVowels, letters)\n",
        "for vowels in filetredVowels:\n",
        "    print(vowels, end = \" \")"
      ],
      "execution_count": null,
      "outputs": [
        {
          "output_type": "stream",
          "text": [
            "a e i o "
          ],
          "name": "stdout"
        }
      ]
    },
    {
      "cell_type": "markdown",
      "metadata": {
        "id": "ZZ3Q86f6UTTn"
      },
      "source": [
        "**Find duplicates under given constraints**\n",
        "\n",
        "A sorted array contains 6 different numbers, only 1 number is repeated five times. So there are total 10 numbers in array. Find the duplicate numbers using two comparisons only.\n",
        "\n",
        "**Examples :**\n",
        "\n",
        "* Input: arr[] = {1, 1, 1, 1, 1, 5, 7, 10, 20, 30}\n",
        "\n",
        "    Output: 1\n",
        "\n",
        "* Input: arr[] = {1, 2, 3, 3, 3, 3, 3, 5, 9, 10}\n",
        "\n",
        "    Output: 3\n",
        "\n",
        "* An important observation is, arr[4] or arr[5] is an occurrence of repeated element for sure."
      ]
    },
    {
      "cell_type": "code",
      "metadata": {
        "id": "-h4wvdJEfZnw"
      },
      "source": [
        "def findDuplicateIn2Step(arr):\n",
        "    if arr[3] == arr[4]:\n",
        "        return arr[3]\n",
        "    elif arr[4] == arr[5]:\n",
        "        return arr[4]\n",
        "    else:\n",
        "        return arr[5]        "
      ],
      "execution_count": null,
      "outputs": []
    },
    {
      "cell_type": "code",
      "metadata": {
        "id": "15hOPJ7YVafG",
        "colab": {
          "base_uri": "https://localhost:8080/"
        },
        "outputId": "aa03fad6-cf66-4e05-fd14-fc5ba3ebc1d7"
      },
      "source": [
        "arr = [1, 1, 1, 1, 1, 5, 7, 10, 20, 30]\n",
        "print(findDuplicateIn2Step(arr))"
      ],
      "execution_count": null,
      "outputs": [
        {
          "output_type": "stream",
          "text": [
            "1\n"
          ],
          "name": "stdout"
        }
      ]
    },
    {
      "cell_type": "code",
      "metadata": {
        "id": "gG8daGSyVjeG",
        "colab": {
          "base_uri": "https://localhost:8080/"
        },
        "outputId": "6d98d4c5-6d92-4203-dfff-432137da707e"
      },
      "source": [
        "arr = [1, 2, 3, 3, 3, 3, 3, 5, 9, 10]\n",
        "print(findDuplicateIn2Step(arr))"
      ],
      "execution_count": null,
      "outputs": [
        {
          "output_type": "stream",
          "text": [
            "3\n"
          ],
          "name": "stdout"
        }
      ]
    },
    {
      "cell_type": "code",
      "metadata": {
        "id": "NvR6Le5oVn5L",
        "colab": {
          "base_uri": "https://localhost:8080/"
        },
        "outputId": "91a0bb9d-cede-4ae0-8c64-b1eac72dad92"
      },
      "source": [
        "# first n prime numbers\r\n",
        "num = 50\r\n",
        "for n in range(1, num):\r\n",
        "    for i in range(2, n):\r\n",
        "        if n%i == 0:\r\n",
        "            break\r\n",
        "    else:\r\n",
        "        print(n, end = \" \") "
      ],
      "execution_count": 1,
      "outputs": [
        {
          "output_type": "stream",
          "text": [
            "1 2 3 5 7 11 13 17 19 23 29 31 37 41 43 47 "
          ],
          "name": "stdout"
        }
      ]
    },
    {
      "cell_type": "code",
      "metadata": {
        "id": "y2kt0zn5muA2"
      },
      "source": [
        ""
      ],
      "execution_count": null,
      "outputs": []
    }
  ]
}