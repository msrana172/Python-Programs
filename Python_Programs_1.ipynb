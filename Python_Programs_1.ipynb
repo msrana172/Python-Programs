{
  "nbformat": 4,
  "nbformat_minor": 0,
  "metadata": {
    "colab": {
      "name": "Python_Programs_1.ipynb",
      "provenance": [],
      "authorship_tag": "ABX9TyNmfJsmWjxbS5CLRmP9gXiR",
      "include_colab_link": true
    },
    "kernelspec": {
      "name": "python3",
      "display_name": "Python 3"
    }
  },
  "cells": [
    {
      "cell_type": "markdown",
      "metadata": {
        "id": "view-in-github",
        "colab_type": "text"
      },
      "source": [
        "<a href=\"https://colab.research.google.com/github/msrana172/Python-Programs/blob/master/Python_Programs_1.ipynb\" target=\"_parent\"><img src=\"https://colab.research.google.com/assets/colab-badge.svg\" alt=\"Open In Colab\"/></a>"
      ]
    },
    {
      "cell_type": "markdown",
      "metadata": {
        "id": "LTKjwgB2_4eb"
      },
      "source": [
        "**Print the repeating characters**"
      ]
    },
    {
      "cell_type": "code",
      "metadata": {
        "id": "s6Z-iwm__rjl",
        "outputId": "b53875ce-0eea-4cd3-da83-9dcd99fce16a",
        "colab": {
          "base_uri": "https://localhost:8080/",
          "height": 35
        }
      },
      "source": [
        "arr = [1, 2, 3, 4, 5, 4, 3, 1]\n",
        "n = len(arr)\n",
        "# repeted = []\n",
        "for i in range(n):\n",
        "    for j in range(i+1, n):\n",
        "        if arr[i] == arr[j]:\n",
        "            # repeted.append(arr[j])\n",
        "            print(arr[i], end = \" \")"
      ],
      "execution_count": 4,
      "outputs": [
        {
          "output_type": "stream",
          "text": [
            "1 3 4 "
          ],
          "name": "stdout"
        }
      ]
    },
    {
      "cell_type": "markdown",
      "metadata": {
        "id": "s3qRA8pSBaR_"
      },
      "source": [
        "**Find the largest palindrome string in a string**"
      ]
    },
    {
      "cell_type": "code",
      "metadata": {
        "id": "-_bAZSJIAeTE"
      },
      "source": [
        "def LongestPalindrome(s):\n",
        "    n = len(s)\n",
        "    # Create a string to store our resultant palindrome\n",
        "    palindrome = ''\n",
        " \n",
        "    # loop through the input string\n",
        "    for i in range(n):\n",
        " \n",
        "        # loop backwards through the input string\n",
        "        for j in range(n, i, -1):\n",
        " \n",
        "            # Break if out of range\n",
        "            if len(palindrome) >= j-i:\n",
        "                break\n",
        " \n",
        "            # Update variable if matches\n",
        "            elif s[i:j] == s[i:j][::-1]:\n",
        "                palindrome = s[i:j]\n",
        "                break\n",
        " \n",
        "    return palindrome"
      ],
      "execution_count": 6,
      "outputs": []
    },
    {
      "cell_type": "code",
      "metadata": {
        "id": "P73b97zEAlv0",
        "outputId": "3bd11da6-b470-4047-db0d-ea57845e7b09",
        "colab": {
          "base_uri": "https://localhost:8080/",
          "height": 35
        }
      },
      "source": [
        "string = 'abfgerccdedccfgfer'\n",
        "LongestPalindrome(string)"
      ],
      "execution_count": 7,
      "outputs": [
        {
          "output_type": "execute_result",
          "data": {
            "application/vnd.google.colaboratory.intrinsic+json": {
              "type": "string"
            },
            "text/plain": [
              "'ccdedcc'"
            ]
          },
          "metadata": {
            "tags": []
          },
          "execution_count": 7
        }
      ]
    },
    {
      "cell_type": "code",
      "metadata": {
        "id": "D2Pi9-j-DUzu"
      },
      "source": [
        ""
      ],
      "execution_count": null,
      "outputs": []
    }
  ]
}