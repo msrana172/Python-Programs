{
  "nbformat": 4,
  "nbformat_minor": 0,
  "metadata": {
    "colab": {
      "name": "CutMandN.ipynb",
      "provenance": [],
      "authorship_tag": "ABX9TyNd26vCONFTMtWU9nj4K9u+",
      "include_colab_link": true
    },
    "kernelspec": {
      "name": "python3",
      "display_name": "Python 3"
    }
  },
  "cells": [
    {
      "cell_type": "markdown",
      "metadata": {
        "id": "view-in-github",
        "colab_type": "text"
      },
      "source": [
        "<a href=\"https://colab.research.google.com/github/msrana172/Python-Programs/blob/master/CutMandN.ipynb\" target=\"_parent\"><img src=\"https://colab.research.google.com/assets/colab-badge.svg\" alt=\"Open In Colab\"/></a>"
      ]
    },
    {
      "cell_type": "markdown",
      "metadata": {
        "id": "0xwDwQTR_mj9"
      },
      "source": [
        "**Cut m and n letters from end of string, then find number of turns to get back original string**\n",
        "\n",
        "* input 1: original string\n",
        "\n",
        "* input 2: m (less than length of string): cut m alphabets from end of string and then add to begining of string.\n",
        "\n",
        "* input 3: n (less than length of string) : cut n alphabets from end of string obtained from above step and then add to begining of that string.\n",
        "\n",
        "This process is continued, need to find out the number turns it takes to get back original string."
      ]
    },
    {
      "cell_type": "code",
      "metadata": {
        "id": "dcVcDmIt_i3F"
      },
      "source": [
        "def CutMandN(string, m, n):\n",
        "    orignalStr = string.upper()\n",
        "    string = string.upper()\n",
        "    turn = 0\n",
        "    for i in string:\n",
        "\n",
        "        # take last m characters\n",
        "        string1 = string[-m:]\n",
        "        string = string.replace(\" \", \"\")[:-m]\n",
        "        string = string1 + string\n",
        "        if orignalStr != string:\n",
        "            turn += 1\n",
        "\n",
        "            # take last n characters\n",
        "            string2 = string[-n:]\n",
        "            string = string.replace(\" \", \"\")[:-n]\n",
        "            string = string2 + string\n",
        "            turn += 1\n",
        "            \n",
        "        #break the loop if oignal string and modified string are same\n",
        "        if orignalStr == string: \n",
        "            break\n",
        "    print(turn)\n",
        "    print(string)            "
      ],
      "execution_count": 14,
      "outputs": []
    },
    {
      "cell_type": "code",
      "metadata": {
        "id": "-kRTpgG0C7pg",
        "outputId": "199be442-910d-4345-aca5-856ef87a3c68",
        "colab": {
          "base_uri": "https://localhost:8080/"
        }
      },
      "source": [
        "string = \"ARAYAN\"\n",
        "m = 3\n",
        "n = 2\n",
        "CutMandN(string, m, n)"
      ],
      "execution_count": 16,
      "outputs": [
        {
          "output_type": "stream",
          "text": [
            "6\n",
            "ARAYAN\n"
          ],
          "name": "stdout"
        }
      ]
    }
  ]
}