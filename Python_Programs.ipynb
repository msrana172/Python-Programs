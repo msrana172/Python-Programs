{
  "nbformat": 4,
  "nbformat_minor": 0,
  "metadata": {
    "colab": {
      "name": "Python_Programs.ipynb",
      "provenance": [],
      "authorship_tag": "ABX9TyOConsId5Be7GifbCct6Jg8",
      "include_colab_link": true
    },
    "kernelspec": {
      "name": "python3",
      "display_name": "Python 3"
    }
  },
  "cells": [
    {
      "cell_type": "markdown",
      "metadata": {
        "id": "view-in-github",
        "colab_type": "text"
      },
      "source": [
        "<a href=\"https://colab.research.google.com/github/msrana172/Python-Programs/blob/master/Python_Programs.ipynb\" target=\"_parent\"><img src=\"https://colab.research.google.com/assets/colab-badge.svg\" alt=\"Open In Colab\"/></a>"
      ]
    },
    {
      "cell_type": "markdown",
      "metadata": {
        "id": "qHg-bFesXDmw"
      },
      "source": [
        "**Python Programs**"
      ]
    },
    {
      "cell_type": "markdown",
      "metadata": {
        "id": "ZxiI4mPdXMAH"
      },
      "source": [
        "Area of circle"
      ]
    },
    {
      "cell_type": "code",
      "metadata": {
        "id": "BVUrT3brXCJR",
        "outputId": "5159fda8-584f-4bc5-8981-453849baf157",
        "colab": {
          "base_uri": "https://localhost:8080/"
        }
      },
      "source": [
        "import math\n",
        "# print(math.factorial(5))\n",
        "def areaOfCircle(r):\n",
        "    area = math.pi*r**2\n",
        "    return area\n",
        "r = 2\n",
        "print(areaOfCircle(r))"
      ],
      "execution_count": 1,
      "outputs": [
        {
          "output_type": "stream",
          "text": [
            "12.566370614359172\n"
          ],
          "name": "stdout"
        }
      ]
    },
    {
      "cell_type": "markdown",
      "metadata": {
        "id": "6J9bdHz2XRYj"
      },
      "source": [
        "All prime number in a Interval"
      ]
    },
    {
      "cell_type": "code",
      "metadata": {
        "id": "aEzSgY3sXPaQ",
        "outputId": "394a2f49-a4ed-4a61-d0a4-76253c16d5c8",
        "colab": {
          "base_uri": "https://localhost:8080/"
        }
      },
      "source": [
        "start = 11\n",
        "end = 25\n",
        "for i in range(start, end):\n",
        "    for j in range(2, i):\n",
        "        if i%j == 0:\n",
        "            break\n",
        "    else:\n",
        "       print(i, end = \" \")        "
      ],
      "execution_count": 2,
      "outputs": [
        {
          "output_type": "stream",
          "text": [
            "11 13 17 19 23 "
          ],
          "name": "stdout"
        }
      ]
    },
    {
      "cell_type": "markdown",
      "metadata": {
        "id": "vGiALOtccYnO"
      },
      "source": [
        "Given Number is Prime or Not"
      ]
    },
    {
      "cell_type": "code",
      "metadata": {
        "id": "s1EKDGK9Xo3F",
        "outputId": "bf842072-2161-4820-d2ce-783f308d2427",
        "colab": {
          "base_uri": "https://localhost:8080/"
        }
      },
      "source": [
        "num = 11\n",
        "if num > 1:\n",
        "    for i in range(2, num):\n",
        "        if num%i == 0:\n",
        "            print(num, \"is not a prime number\")\n",
        "            break\n",
        "    else:\n",
        "        print(num, \"is prime\")\n",
        "else:\n",
        "    print(num, 'is not a prime number')    \n"
      ],
      "execution_count": 3,
      "outputs": [
        {
          "output_type": "stream",
          "text": [
            "11 is prime\n"
          ],
          "name": "stdout"
        }
      ]
    },
    {
      "cell_type": "markdown",
      "metadata": {
        "id": "8ZU0RGD4hDCE"
      },
      "source": [
        "GCD of two numbers"
      ]
    },
    {
      "cell_type": "code",
      "metadata": {
        "id": "7E2I4v5Odh14",
        "outputId": "3b15d5a1-b6b0-4b13-dcad-fee97f53f08d",
        "colab": {
          "base_uri": "https://localhost:8080/"
        }
      },
      "source": [
        "def GCD(a, b):\n",
        "    if b == 0:\n",
        "        return a\n",
        "    else:\n",
        "        return GCD(b, a%b)\n",
        "num1 = 18\n",
        "num2 = 24\n",
        "print(GCD(num1, num2))           "
      ],
      "execution_count": 4,
      "outputs": [
        {
          "output_type": "stream",
          "text": [
            "6\n"
          ],
          "name": "stdout"
        }
      ]
    },
    {
      "cell_type": "code",
      "metadata": {
        "id": "8OVND34miFG5"
      },
      "source": [
        "lcm = num1*num2/GCD(num1, num2)"
      ],
      "execution_count": 5,
      "outputs": []
    },
    {
      "cell_type": "code",
      "metadata": {
        "id": "RMARx3d6i-WV",
        "outputId": "1c7a9556-b343-4094-e81d-ea459bed9760",
        "colab": {
          "base_uri": "https://localhost:8080/"
        }
      },
      "source": [
        "lcm"
      ],
      "execution_count": 6,
      "outputs": [
        {
          "output_type": "execute_result",
          "data": {
            "text/plain": [
              "72.0"
            ]
          },
          "metadata": {
            "tags": []
          },
          "execution_count": 6
        }
      ]
    },
    {
      "cell_type": "markdown",
      "metadata": {
        "id": "SP6PtAiXkomU"
      },
      "source": [
        "fibonacci series"
      ]
    },
    {
      "cell_type": "code",
      "metadata": {
        "id": "9OhU0NrAi_OH"
      },
      "source": [
        "def fib(n):\n",
        "    a = 0\n",
        "    b = 1\n",
        "    if n < 0:\n",
        "        print(\"Incorrect Input\")\n",
        "    elif n == 0:\n",
        "        return a\n",
        "    elif n == 1:\n",
        "        return b\n",
        "    else:\n",
        "        for i in range(2, n):\n",
        "            c = a + b\n",
        "            a = b\n",
        "            b = c \n",
        "        return b\n",
        "def fib1(n):\n",
        "    if n<0:\n",
        "        print(\"Incorrect Input\")\n",
        "    elif n == 1:\n",
        "        return 0\n",
        "    elif n == 2:\n",
        "        return 1\n",
        "    else: \n",
        "        return fib1(n-1) + fib1(n-2)\n"
      ],
      "execution_count": 7,
      "outputs": []
    },
    {
      "cell_type": "code",
      "metadata": {
        "id": "jsBI0xDnl68p",
        "outputId": "4b844bfd-3020-4880-c2e9-88a98610fffd",
        "colab": {
          "base_uri": "https://localhost:8080/"
        }
      },
      "source": [
        "n = 9\n",
        "print(fib(n))\n",
        "print(fib1(n))"
      ],
      "execution_count": 8,
      "outputs": [
        {
          "output_type": "stream",
          "text": [
            "21\n",
            "21\n"
          ],
          "name": "stdout"
        }
      ]
    },
    {
      "cell_type": "markdown",
      "metadata": {
        "id": "4ecwG0XXbye_"
      },
      "source": [
        "* Pttern Printing"
      ]
    },
    {
      "cell_type": "code",
      "metadata": {
        "id": "lTy_ql5jmHKH",
        "outputId": "451ed444-f6e6-48c4-c145-d82bffde7823",
        "colab": {
          "base_uri": "https://localhost:8080/"
        }
      },
      "source": [
        "# *\n",
        "# * *\n",
        "# * * *\n",
        "# * * * *\n",
        "# * * * * *\n",
        "n = 5\n",
        "for i in range(1, n + 1):\n",
        "    for j in range(1, i + 1):\n",
        "        print(\"*\", end = \" \")\n",
        "    print()     "
      ],
      "execution_count": 9,
      "outputs": [
        {
          "output_type": "stream",
          "text": [
            "* \n",
            "* * \n",
            "* * * \n",
            "* * * * \n",
            "* * * * * \n"
          ],
          "name": "stdout"
        }
      ]
    },
    {
      "cell_type": "code",
      "metadata": {
        "id": "IV-lxxDqbooH",
        "outputId": "f78aa8db-fd21-4c45-98f8-fa363302680b",
        "colab": {
          "base_uri": "https://localhost:8080/"
        }
      },
      "source": [
        "#Pattern-2\n",
        "n = 3\n",
        "k = 1\n",
        "for i in range(1, n + 1):                           # * \n",
        "    for j in range(1, k + 1):                       # * * *\n",
        "        print(\"*\", end = \" \")                       # * * * * *\n",
        "    k += 2    \n",
        "    print()    "
      ],
      "execution_count": 10,
      "outputs": [
        {
          "output_type": "stream",
          "text": [
            "* \n",
            "* * * \n",
            "* * * * * \n"
          ],
          "name": "stdout"
        }
      ]
    },
    {
      "cell_type": "code",
      "metadata": {
        "id": "kt6HG1BLcwYt",
        "outputId": "bc261674-d591-4841-a85e-eca73f996b58",
        "colab": {
          "base_uri": "https://localhost:8080/"
        }
      },
      "source": [
        "# Pattern - 3\n",
        "def triangle(n):\n",
        "    k = 2*n - 2\n",
        "    for i in range(0, n):\n",
        "        for j in range(0, k):\n",
        "            print(end = \" \")\n",
        "        k = k - 2\n",
        "        for j in range(0, i + 1):\n",
        "            print(\"*\", end = \" \")\n",
        "        print(\"\\r\")  \n",
        "n = 5\n",
        "triangle(n)               "
      ],
      "execution_count": 11,
      "outputs": [
        {
          "output_type": "stream",
          "text": [
            "        * \r\n",
            "      * * \r\n",
            "    * * * \r\n",
            "  * * * * \r\n",
            "* * * * * \r\n"
          ],
          "name": "stdout"
        }
      ]
    },
    {
      "cell_type": "code",
      "metadata": {
        "id": "0aI1m3H7fZSJ",
        "outputId": "4c5d968d-8110-47ff-dc4e-6926a292cea6",
        "colab": {
          "base_uri": "https://localhost:8080/"
        }
      },
      "source": [
        "def triangle(n):\n",
        "    k = 2*n - 2\n",
        "    for i in range(0, n):\n",
        "        for j in range(0, k):\n",
        "            print(end = \" \")\n",
        "        k = k - 1\n",
        "        for j in range(0, i + 1):\n",
        "            print(\"*\", end = \" \")\n",
        "        print(\"\\r\")  \n",
        "n = 5\n",
        "triangle(n)          "
      ],
      "execution_count": 12,
      "outputs": [
        {
          "output_type": "stream",
          "text": [
            "        * \r\n",
            "       * * \r\n",
            "      * * * \r\n",
            "     * * * * \r\n",
            "    * * * * * \r\n"
          ],
          "name": "stdout"
        }
      ]
    },
    {
      "cell_type": "code",
      "metadata": {
        "id": "cv4ZJjKCjYgE",
        "outputId": "329a1bed-1982-4f34-d993-ed90c03a861f",
        "colab": {
          "base_uri": "https://localhost:8080/"
        }
      },
      "source": [
        "def triangle(n):\n",
        "    k = 2*n - 2\n",
        "    for i in range(0, n):\n",
        "        for j in range(0, k):\n",
        "            print(end = \" \")\n",
        "        k = k - 1\n",
        "        for j in range(0, i + 1):\n",
        "            print(\"*\", end = \" \")\n",
        "        print(\"\\r\")  \n",
        "n = 5\n",
        "triangle(n)          "
      ],
      "execution_count": 13,
      "outputs": [
        {
          "output_type": "stream",
          "text": [
            "        * \r\n",
            "       * * \r\n",
            "      * * * \r\n",
            "     * * * * \r\n",
            "    * * * * * \r\n"
          ],
          "name": "stdout"
        }
      ]
    },
    {
      "cell_type": "code",
      "metadata": {
        "id": "gtBWhMSAlHmR",
        "outputId": "58ddf395-4db1-490b-c2d5-a13fa63e9bf2",
        "colab": {
          "base_uri": "https://localhost:8080/"
        }
      },
      "source": [
        "n = 5\n",
        "for i in range(1, n + 1):\n",
        "   for gap in range(1, (n - i) + 1):\n",
        "      print(end = \" \")\n",
        "   for i in range(2*i - 1):\n",
        "      print(\"*\", end = \"\")\n",
        "   print()"
      ],
      "execution_count": 14,
      "outputs": [
        {
          "output_type": "stream",
          "text": [
            "    *\n",
            "   ***\n",
            "  *****\n",
            " *******\n",
            "*********\n"
          ],
          "name": "stdout"
        }
      ]
    },
    {
      "cell_type": "code",
      "metadata": {
        "id": "zuDZ8Sw3lOu-",
        "outputId": "2c3279d0-9578-47df-8e8a-d67125a8f85d",
        "colab": {
          "base_uri": "https://localhost:8080/"
        }
      },
      "source": [
        "n = 5\n",
        "for i in range(1, n + 1):\n",
        "    for j in range(1, i + 1):\n",
        "        print(i, end = \" \")\n",
        "    print()   "
      ],
      "execution_count": 15,
      "outputs": [
        {
          "output_type": "stream",
          "text": [
            "1 \n",
            "2 2 \n",
            "3 3 3 \n",
            "4 4 4 4 \n",
            "5 5 5 5 5 \n"
          ],
          "name": "stdout"
        }
      ]
    },
    {
      "cell_type": "code",
      "metadata": {
        "id": "BbyMpZQyoQfY",
        "outputId": "d5e8e4b4-5b6c-4343-ff41-d05b286bc9d3",
        "colab": {
          "base_uri": "https://localhost:8080/"
        }
      },
      "source": [
        "n = 5\n",
        "for i in range(1, n + 1):\n",
        "    for j in range(1, i + 1):\n",
        "        print(j, end = \" \")\n",
        "    print()"
      ],
      "execution_count": 16,
      "outputs": [
        {
          "output_type": "stream",
          "text": [
            "1 \n",
            "1 2 \n",
            "1 2 3 \n",
            "1 2 3 4 \n",
            "1 2 3 4 5 \n"
          ],
          "name": "stdout"
        }
      ]
    },
    {
      "cell_type": "code",
      "metadata": {
        "id": "wQ-pY5zwoc3b",
        "outputId": "e9b7eeef-8811-4f3c-af61-33c78112fbb8",
        "colab": {
          "base_uri": "https://localhost:8080/"
        }
      },
      "source": [
        "n = 5\n",
        "b = 0\n",
        "for i in range(n, 0, -1):\n",
        "    b += 1\n",
        "    for j in range(1, i + 1):\n",
        "        print(b, end = \" \")\n",
        "    print()    "
      ],
      "execution_count": 17,
      "outputs": [
        {
          "output_type": "stream",
          "text": [
            "1 1 1 1 1 \n",
            "2 2 2 2 \n",
            "3 3 3 \n",
            "4 4 \n",
            "5 \n"
          ],
          "name": "stdout"
        }
      ]
    },
    {
      "cell_type": "code",
      "metadata": {
        "id": "GT-F6N9Dv1ZX",
        "outputId": "8237d413-4d18-422e-b7aa-81bedcd427d3",
        "colab": {
          "base_uri": "https://localhost:8080/"
        }
      },
      "source": [
        "n = 5\n",
        "b = 5\n",
        "for i in range(n, 0, -1):\n",
        "    # b += 1\n",
        "    for j in range(1, i + 1):\n",
        "        print(b, end = \" \")\n",
        "    b -= 1    \n",
        "    print()  "
      ],
      "execution_count": 18,
      "outputs": [
        {
          "output_type": "stream",
          "text": [
            "5 5 5 5 5 \n",
            "4 4 4 4 \n",
            "3 3 3 \n",
            "2 2 \n",
            "1 \n"
          ],
          "name": "stdout"
        }
      ]
    },
    {
      "cell_type": "code",
      "metadata": {
        "id": "r8mgw80KxN8Y",
        "outputId": "4be9def4-1c3b-4ba7-afcf-481e25fb2a1b",
        "colab": {
          "base_uri": "https://localhost:8080/"
        }
      },
      "source": [
        "n = 5\n",
        "m = n\n",
        "for i in range(n , 0, -1):\n",
        "    for j in range(1, i + 1):\n",
        "        print(m, end = \" \")\n",
        "    print('\\r')    "
      ],
      "execution_count": 19,
      "outputs": [
        {
          "output_type": "stream",
          "text": [
            "5 5 5 5 5 \r\n",
            "5 5 5 5 \r\n",
            "5 5 5 \r\n",
            "5 5 \r\n",
            "5 \r\n"
          ],
          "name": "stdout"
        }
      ]
    },
    {
      "cell_type": "code",
      "metadata": {
        "id": "f2xPm8cL0SSj",
        "outputId": "36e37560-a286-415b-ad52-863993237bd1",
        "colab": {
          "base_uri": "https://localhost:8080/"
        }
      },
      "source": [
        "n = 5\n",
        "for i in range(n , 0, -1):\n",
        "    for j in range(1, i + 1):\n",
        "        print(i, end = \" \")\n",
        "    print('\\r')  \n",
        "\n",
        "print(\"---------\")\n",
        "\n",
        "for i in range(n , 0, -1):\n",
        "    for j in range(1, i + 1):\n",
        "        print(j, end = \" \")\n",
        "    print('\\r')     \n",
        "print(\"---------\")\n",
        "\n",
        "for i in range(n , 0, -1):\n",
        "    for j in range(0, i + 1):\n",
        "        print(j, end = \" \")\n",
        "    print('\\r')     "
      ],
      "execution_count": 20,
      "outputs": [
        {
          "output_type": "stream",
          "text": [
            "5 5 5 5 5 \r\n",
            "4 4 4 4 \r\n",
            "3 3 3 \r\n",
            "2 2 \r\n",
            "1 \r\n",
            "---------\n",
            "1 2 3 4 5 \r\n",
            "1 2 3 4 \r\n",
            "1 2 3 \r\n",
            "1 2 \r\n",
            "1 \r\n",
            "---------\n",
            "0 1 2 3 4 5 \r\n",
            "0 1 2 3 4 \r\n",
            "0 1 2 3 \r\n",
            "0 1 2 \r\n",
            "0 1 \r\n"
          ],
          "name": "stdout"
        }
      ]
    },
    {
      "cell_type": "code",
      "metadata": {
        "id": "mAzLqrxR0q7F",
        "outputId": "9ade7394-2481-4b76-f8cf-a68c37aca16f",
        "colab": {
          "base_uri": "https://localhost:8080/"
        }
      },
      "source": [
        "n = 5\n",
        "for i in range(1, n + 1):\n",
        "    for j in range(i, 0, -1):\n",
        "        print(j, end = \" \")\n",
        "    print()  \n",
        "\n",
        "print(\"--------\")\n",
        "\n",
        "for i in range(1, n + 1):\n",
        "    for j in range(i-1, -1, -1):\n",
        "        print(format(2**j, \"2d\"), end = \" \")\n",
        "    print()         "
      ],
      "execution_count": 21,
      "outputs": [
        {
          "output_type": "stream",
          "text": [
            "1 \n",
            "2 1 \n",
            "3 2 1 \n",
            "4 3 2 1 \n",
            "5 4 3 2 1 \n",
            "--------\n",
            " 1 \n",
            " 2  1 \n",
            " 4  2  1 \n",
            " 8  4  2  1 \n",
            "16  8  4  2  1 \n"
          ],
          "name": "stdout"
        }
      ]
    },
    {
      "cell_type": "code",
      "metadata": {
        "id": "CV5vwySG0yAk",
        "outputId": "f2562402-ded9-4b87-96df-1dc7846d4cd0",
        "colab": {
          "base_uri": "https://localhost:8080/"
        }
      },
      "source": [
        "n = 5\n",
        "for i in range(1, n + 1):\n",
        "    for j in range(1, i+1, 1):\n",
        "        print(2**j, end = \" \")\n",
        "    for j in range(i-1, -1, -1):\n",
        "        print(2**j, end = \" \")\n",
        "    print()        "
      ],
      "execution_count": 22,
      "outputs": [
        {
          "output_type": "stream",
          "text": [
            "2 1 \n",
            "2 4 2 1 \n",
            "2 4 8 4 2 1 \n",
            "2 4 8 16 8 4 2 1 \n",
            "2 4 8 16 32 16 8 4 2 1 \n"
          ],
          "name": "stdout"
        }
      ]
    },
    {
      "cell_type": "code",
      "metadata": {
        "id": "Mhw0lvYJ4ndx",
        "outputId": "686b1ede-4521-47c4-a45a-c12123b1a913",
        "colab": {
          "base_uri": "https://localhost:8080/"
        }
      },
      "source": [
        "CurrentNumber = 1\n",
        "n = 5\n",
        "stop = 2\n",
        "for i in range(1, n + 1):\n",
        "    for j in range(1, stop):\n",
        "        print(format(CurrentNumber, \"4d\"), end = \" \")\n",
        "        CurrentNumber += 1\n",
        "    print()\n",
        "    stop += 2\n",
        "\n",
        "print(\"  ------------------------------------------\")\n",
        "CurrentNumber = 1\n",
        "n = 5\n",
        "stop = 2\n",
        "for i in range(1, n + 1):\n",
        "    for j in range(1, stop):\n",
        "        print(format(CurrentNumber, \"4d\"), end = \" \")\n",
        "        CurrentNumber += 1\n",
        "    print()\n",
        "    stop += 1    \n"
      ],
      "execution_count": 23,
      "outputs": [
        {
          "output_type": "stream",
          "text": [
            "   1 \n",
            "   2    3    4 \n",
            "   5    6    7    8    9 \n",
            "  10   11   12   13   14   15   16 \n",
            "  17   18   19   20   21   22   23   24   25 \n",
            "  ------------------------------------------\n",
            "   1 \n",
            "   2    3 \n",
            "   4    5    6 \n",
            "   7    8    9   10 \n",
            "  11   12   13   14   15 \n"
          ],
          "name": "stdout"
        }
      ]
    },
    {
      "cell_type": "code",
      "metadata": {
        "id": "XhTHzRV1t8VJ",
        "outputId": "34c04e06-5c22-4d9b-987c-4f23971b9d09",
        "colab": {
          "base_uri": "https://localhost:8080/"
        }
      },
      "source": [
        "start = 1\n",
        "stop = 2\n",
        "currentNumber = stop\n",
        "n = 5\n",
        "for i in range(2, n):\n",
        "    for j in range(start, stop):\n",
        "        currentNumber -= 1\n",
        "        print(currentNumber, end = \" \")\n",
        "    print(\" \")\n",
        "    start = stop\n",
        "    stop += i\n",
        "    currentNumber = stop      "
      ],
      "execution_count": 24,
      "outputs": [
        {
          "output_type": "stream",
          "text": [
            "1  \n",
            "3 2  \n",
            "6 5 4  \n"
          ],
          "name": "stdout"
        }
      ]
    },
    {
      "cell_type": "code",
      "metadata": {
        "id": "hqmyfIBHxp6p",
        "outputId": "1c5189d0-19f6-440d-b8b7-ed4af9285058",
        "colab": {
          "base_uri": "https://localhost:8080/"
        }
      },
      "source": [
        "class Employee:\n",
        "    def __init__(self, name, id):\n",
        "        self.name = name\n",
        "        self.id = id\n",
        "    def display(self):\n",
        "        print(\"Id : %d \\nName : %s\"%(self.id, self.name))\n",
        "emp1 = Employee(\"John\", 101)\n",
        "emp2 = Employee(\"Raghav\", 102)\n",
        "emp1.display()\n",
        "emp2.display()\n",
        "\n",
        "print(\"\\n\")\n",
        "\n",
        "class Car:\n",
        "    def __init__(self, modelName, year):\n",
        "        self.modelName = modelName\n",
        "        self.year = year\n",
        "    def display1(self):\n",
        "        print(\"Car Model : %s and year : %d\"%(self.modelName, self.year))\n",
        "car1 = Car(\"Toyota\", 2020) \n",
        "car2 = Car(\"Maruti\", 1996)\n",
        "car1.display1()\n",
        "car2.display1()\n",
        "print(\"\\n\")\n",
        "# Static Method in Python\n",
        "class Employee1:\n",
        "    def fun_message(self):\n",
        "        print(\"Welcome to Python Programming:\")\n",
        "    @staticmethod    \n",
        "    def fun_msg():\n",
        "        print(\"This is the static method in python:\")\n",
        "        \n",
        "Employee1.fun_msg()  \n",
        "emp = Employee1()\n",
        "emp.fun_message()\n",
        "\n",
        "#Constructor cannot be final, because it can’t be inherited/overridden. \n",
        "# static is used for memory management, it means same variable or\n",
        "# method will be shared between all instances of a class. \n",
        "# Constructor cannot be static because it cannot be call as method or variable, \n",
        "# so no need to placing a static variable before constructor.\n",
        "print(\"\\n\")\n",
        "class Animal:\n",
        "    def speak(self):\n",
        "        print(\"Animal Speaking : \")\n",
        "class Dog(Animal):\n",
        "    def bark(self):\n",
        "        print(\"Dod Barking : \")\n",
        "class DogChild(Dog):\n",
        "    def eat(self):\n",
        "        print(\"Eating Bread : \")\n",
        "        \n",
        "        \n",
        "obj = DogChild()\n",
        "obj.speak()\n",
        "obj.bark()\n",
        "obj.eat()\n",
        "print(\"\\n\")\n",
        "class Calculation1:\n",
        "    def summation(self, a , b):\n",
        "        return a + b\n",
        "class Calculation2:\n",
        "    def multiplication(self, a, b):\n",
        "        return a*b\n",
        "class Derived(Calculation1, Calculation2):\n",
        "    def division(self, a, b):\n",
        "        return a/b\n",
        "# creating the objectof derived class\n",
        "mulLevel = Derived()\n",
        "print(\"Summation : \",mulLevel.summation(2,4))\n",
        "print(\"Multiplication : \", mulLevel.multiplication(2,4))\n",
        "print(\"Division : \",mulLevel.division(4,2))\n",
        "\n",
        "print(\"\\n\")\n",
        "class Animal:\n",
        "    def speak(self):\n",
        "        print(\"Speaking\")\n",
        "class Dog(Animal):\n",
        "    def speak(self):\n",
        "        print(\"Barking\")\n",
        "overloading = Dog()\n",
        "overloading.speak()\n",
        "\n",
        "print()\n",
        "# Encapsulationcn\n",
        "class Computer:\n",
        "    def __init__(self):\n",
        "        self.__price = 900\n",
        "    def sell(self):\n",
        "        print(\"Selling Price : \", self.__price)\n",
        "    def setmaxPrice(self, price):\n",
        "        self.__price = price\n",
        "C = Computer()\n",
        "C.sell()\n",
        "C.__price = 1000\n",
        "C.sell()\n",
        "C.setmaxPrice(1000)\n",
        "C.sell()"
      ],
      "execution_count": 25,
      "outputs": [
        {
          "output_type": "stream",
          "text": [
            "Id : 101 \n",
            "Name : John\n",
            "Id : 102 \n",
            "Name : Raghav\n",
            "\n",
            "\n",
            "Car Model : Toyota and year : 2020\n",
            "Car Model : Maruti and year : 1996\n",
            "\n",
            "\n",
            "This is the static method in python:\n",
            "Welcome to Python Programming:\n",
            "\n",
            "\n",
            "Animal Speaking : \n",
            "Dod Barking : \n",
            "Eating Bread : \n",
            "\n",
            "\n",
            "Summation :  6\n",
            "Multiplication :  8\n",
            "Division :  2.0\n",
            "\n",
            "\n",
            "Barking\n",
            "\n",
            "Selling Price :  900\n",
            "Selling Price :  900\n",
            "Selling Price :  1000\n"
          ],
          "name": "stdout"
        }
      ]
    },
    {
      "cell_type": "markdown",
      "metadata": {
        "id": "XVx4axSr7mi_"
      },
      "source": [
        "**Abstract Class in Python**\n",
        "\n",
        "* A class is called an Abstract class if it contains one or more abstract \n",
        "methods. \n",
        "* An abstract method is a method that is declared, but contains no implementation. \n",
        "* Abstract classes may not be instantiated, and its abstract methods must be implemented by its subclasses."
      ]
    },
    {
      "cell_type": "code",
      "metadata": {
        "id": "Vhynzz8G7lvq",
        "outputId": "233249f0-404b-428c-f2af-c5f01bb5a3d3",
        "colab": {
          "base_uri": "https://localhost:8080/"
        }
      },
      "source": [
        "from abc import ABC, abstractmethod \n",
        "class Polygon(ABC):\n",
        "    # abstract method\n",
        "    # @abstractmethod \n",
        "    def noofsides(self):\n",
        "        pass \n",
        "class Triangle(Polygon):\n",
        "    #overriding abstract method \n",
        "    def noofsides(self):\n",
        "        print(\"I have 3 sides :\")\n",
        "class Pentagon(Polygon):\n",
        "    #Overriding abstract method \n",
        "    def noofsides(self):\n",
        "        print(\"I have 5 sides :\")\n",
        "class Hexagon(Polygon):\n",
        "    def noofsides(self):\n",
        "        print(\"I have 6 sides :\")\n",
        "class Quadrialateral(Polygon):\n",
        "    def noofsides(self):\n",
        "        print(\"I have 4 sides :\")\n",
        "R = Triangle()\n",
        "R.noofsides()\n",
        "\n",
        "K = Quadrialateral()\n",
        "K.noofsides()\n",
        "\n",
        "R = Pentagon()\n",
        "R.noofsides()\n",
        "\n",
        "K = Hexagon()\n",
        "K.noofsides()\n",
        "\n",
        "a = Polygon()\n",
        "a.noofsides()"
      ],
      "execution_count": 26,
      "outputs": [
        {
          "output_type": "stream",
          "text": [
            "I have 3 sides :\n",
            "I have 4 sides :\n",
            "I have 5 sides :\n",
            "I have 6 sides :\n"
          ],
          "name": "stdout"
        }
      ]
    },
    {
      "cell_type": "code",
      "metadata": {
        "id": "JilDdWgEAQcR",
        "outputId": "1466b3ac-b82b-4cf9-a818-10227e733a52",
        "colab": {
          "base_uri": "https://localhost:8080/"
        }
      },
      "source": [
        "# Another Example pf Abstract class\n",
        "import abc \n",
        "class Shape(metaclass = abc.ABCMeta):\n",
        "    @abc.abstractmethod\n",
        "    def printArea(self):\n",
        "        pass \n",
        "class Rectangle(Shape):\n",
        "    def __init__(self, x, y):\n",
        "        self.l = x \n",
        "        self.b = y \n",
        "    def printArea(self):\n",
        "        return self.l * self.b \n",
        "r = Rectangle(10, 20)\n",
        "print(\"Area of Ractangle\", r.printArea())                  \n"
      ],
      "execution_count": 27,
      "outputs": [
        {
          "output_type": "stream",
          "text": [
            "Area of Ractangle 200\n"
          ],
          "name": "stdout"
        }
      ]
    },
    {
      "cell_type": "markdown",
      "metadata": {
        "id": "dtLnRHUpxq_M"
      },
      "source": [
        "**Number of perfect squares between two given numbers**\n",
        "```\n",
        "Given two given numbers a and b where 1<=a<=b, find the number of perfect squares between a and b (a and b inclusive).\n",
        "```\n",
        "\n"
      ]
    },
    {
      "cell_type": "code",
      "metadata": {
        "id": "NMfFyiMVzcaO",
        "outputId": "f40f182f-9583-45a8-9625-c0cd72b4fb9f",
        "colab": {
          "base_uri": "https://localhost:8080/"
        }
      },
      "source": [
        "def perfectSquare(a, b):\n",
        "    count = 0\n",
        "    for i in range(a, b + 1):\n",
        "        if i**(.5) == int(i**(.5)):\n",
        "            print(i ,end = \" \")\n",
        "            count += 1\n",
        "    print(\"\\nPerfect Square between a and b :\", count)        \n",
        "a = 2\n",
        "b = 24        \n",
        "perfectSquare(a, b)\n",
        "\n",
        "# Another Method\n",
        "def CountPerfectSquare(a, b):\n",
        "    count = 0\n",
        "    for i in range(a, b + 1):\n",
        "        j = 1\n",
        "        while j * j <= i:\n",
        "            if j * j == i:\n",
        "                count += 1\n",
        "            j += 1\n",
        "        i += 1\n",
        "    return count                \n",
        "print(\"Perfect Square between a and b :\", CountPerfectSquare(a, b))"
      ],
      "execution_count": 28,
      "outputs": [
        {
          "output_type": "stream",
          "text": [
            "4 9 16 \n",
            "Perfect Square between a and b : 3\n",
            "Perfect Square between a and b : 3\n"
          ],
          "name": "stdout"
        }
      ]
    },
    {
      "cell_type": "markdown",
      "metadata": {
        "id": "NPpNmlZe3Rri"
      },
      "source": [
        "**Program to convert a given number to words**\n",
        "```\n",
        "Write code to convert a given number into words. For example, if “1234” is given as input, output should be “one thousand two hundred thirty four”.\n",
        "```\n",
        "\n"
      ]
    },
    {
      "cell_type": "code",
      "metadata": {
        "id": "o-WKFW-yygJB",
        "outputId": "d82bcd4d-8056-47f6-b1b6-06cbfd733816",
        "colab": {
          "base_uri": "https://localhost:8080/"
        }
      },
      "source": [
        "def convert_to_words(number):\n",
        "    l = len(number)\n",
        "    if l == 0:\n",
        "        print(\"Empty String :\")\n",
        "        return ;\n",
        "    if l > 4:\n",
        "        print(\"Length more than 4 is not supported :\")\n",
        "        return ;\n",
        "    single_digits = [\"zero\", 'one', 'two', 'three', 'four', 'five', 'six', 'seven','eight', 'nine']               \n",
        "    two_digits = [' ', 'ten', 'eleven', 'twelve', 'thirteen', 'fourteen', 'sixteen', 'seventeen', 'eighteen', 'nineteen']\n",
        "    ten_multiple = [' ', ' ', 'twenty', 'thirty', 'forty', 'fifty', 'sixty', 'seventy', 'eighty', 'ninety']               \n",
        "    tens_power = ['hundred', 'thousand']\n",
        "    print(number + \" :\", end = \" \")\n",
        "    if l == 1:\n",
        "        print(single_digits[ord(number[0]) - '0']);\n",
        "        return ;\n",
        "    i = 0\n",
        "    while i < len(number):\n",
        "        if l>=3:\n",
        "            if ord(number[i]) - 48 != 0:\n",
        "                print(single_digits[ord(number[i]) - 48], end = \" \")\n",
        "                print(tens_power[l - 3], end = ' ')\n",
        "            l -= 1\n",
        "        else:\n",
        "            if ord(number[i]) - 48 == 1:\n",
        "                sum = ord(number[i]) - 48 + ord(number[i + 1]) - 48  \n",
        "                print(two_digits[sum])\n",
        "                return ;\n",
        "            elif ord(number[i]) - 48 == 2 and ord(number[x + 1]) - 48 == 0:\n",
        "                print(\"twenty\")\n",
        "                return ;\n",
        "            else:\n",
        "                x = ord(number[i]) - 48\n",
        "                if x > 0:\n",
        "                    print(tens_multiple[x], end = \" \")\n",
        "                else:\n",
        "                    print(\" \", end = \" \")\n",
        "                i += 1\n",
        "                if ord(number[i]) - 48 != 0:\n",
        "                    print(single_digits[ord(number[i]) - 48])\n",
        "    i += 1                                     \n",
        "number = \"123\"\n",
        "convert_to_words(number)        "
      ],
      "execution_count": 29,
      "outputs": [
        {
          "output_type": "stream",
          "text": [
            "123 : one hundred twelve\n"
          ],
          "name": "stdout"
        }
      ]
    },
    {
      "cell_type": "markdown",
      "metadata": {
        "id": "8ESHXM5MOzlQ"
      },
      "source": [
        "Python Program to check is a string is palindrome or not"
      ]
    },
    {
      "cell_type": "code",
      "metadata": {
        "id": "rvFtLAeR_AZv",
        "outputId": "cf3d199e-9811-4eb9-c8a2-7a96ee4e78bc",
        "colab": {
          "base_uri": "https://localhost:8080/"
        }
      },
      "source": [
        "# Method - 1\n",
        "def isPalindrome(s):\n",
        "    return s == s[::-1]\n",
        "\n",
        "# Another Method\n",
        "def isPalindrome1(str):\n",
        "    for i in range(len(str)):\n",
        "        if str[i] != str[len(str) - i - 1]:\n",
        "            return False\n",
        "    return True\n",
        "\n",
        "s = \"malayalam\"\n",
        "ans = isPalindrome(s)\n",
        "ans1 = isPalindrome1(s)\n",
        "print(ans)\n",
        "print(ans1)         \n"
      ],
      "execution_count": 30,
      "outputs": [
        {
          "output_type": "stream",
          "text": [
            "True\n",
            "True\n"
          ],
          "name": "stdout"
        }
      ]
    },
    {
      "cell_type": "code",
      "metadata": {
        "id": "uYsOjZvpQCcH",
        "outputId": "05da303e-32bd-4420-e786-797987ee58ea",
        "colab": {
          "base_uri": "https://localhost:8080/"
        }
      },
      "source": [
        "def reverseString(s):\n",
        "    rs = ''\n",
        "    for c in s:\n",
        "        rs = c + rs \n",
        "    return rs\n",
        "s = \"radar\"\n",
        "s1 = reverseString(s)\n",
        "if s == s1:\n",
        "    print(\"True\")\n",
        "else:\n",
        "    print(\"False\")            "
      ],
      "execution_count": 31,
      "outputs": [
        {
          "output_type": "stream",
          "text": [
            "True\n"
          ],
          "name": "stdout"
        }
      ]
    },
    {
      "cell_type": "markdown",
      "metadata": {
        "id": "vC8sT7j8UmFT"
      },
      "source": [
        "String is an anagram of another given string\n",
        "\n",
        "```\n",
        " An anagram of a string is another string that contains same characters, only the order of characters can be different. For example, “abcd” and “dabc” are anagram of each other.\n",
        "```\n",
        "\n"
      ]
    },
    {
      "cell_type": "code",
      "metadata": {
        "id": "buxLOifDRG52",
        "outputId": "ec017bca-0131-4c7f-e969-9241d4f77a59",
        "colab": {
          "base_uri": "https://localhost:8080/"
        }
      },
      "source": [
        "def is_anagram(str1, str2):\n",
        "    list_str1 = list(str1)\n",
        "    list_str1.sort()\n",
        "    list_str2 = list(str2)\n",
        "    list_str2.sort()\n",
        "\n",
        "    return (list_str1 == list_str2)\n",
        "\n",
        "print(is_anagram('anagram','nagaram'))\n",
        "print(is_anagram('cat','rat'))"
      ],
      "execution_count": 32,
      "outputs": [
        {
          "output_type": "stream",
          "text": [
            "True\n",
            "False\n"
          ],
          "name": "stdout"
        }
      ]
    },
    {
      "cell_type": "code",
      "metadata": {
        "id": "IDTMAtuLRntJ",
        "outputId": "df13fe4c-01a2-465c-b034-4692857f2d46",
        "colab": {
          "base_uri": "https://localhost:8080/"
        }
      },
      "source": [
        "def areAnagram(str1, str2):    \n",
        "    n1 = len(str1)  \n",
        "    n2 = len(str2)  \n",
        "   \n",
        "    if n1 != n2:  \n",
        "        return 0\n",
        "  \n",
        "    # Sort both strings  \n",
        "    str1 = sorted(str1) \n",
        "    str2 = sorted(str2) \n",
        "  \n",
        "    # Compare sorted strings  \n",
        "    for i in range(0, n1):  \n",
        "        if str1[i] != str2[i]:  \n",
        "            return 0\n",
        "    return 1\n",
        "    \n",
        "str1 = \"test\"\n",
        "str2 = \"ttew\"\n",
        "if areAnagram(str1, str2):  \n",
        "    print (\"The two strings are anagram of each other\") \n",
        "else:  \n",
        "    print (\"The two strings are not anagram of each other\") "
      ],
      "execution_count": 33,
      "outputs": [
        {
          "output_type": "stream",
          "text": [
            "The two strings are not anagram of each other\n"
          ],
          "name": "stdout"
        }
      ]
    },
    {
      "cell_type": "code",
      "metadata": {
        "id": "mw_CA5R9RymD",
        "outputId": "3d6c8c1b-c54a-4392-b713-e70e9c6cc40b",
        "colab": {
          "base_uri": "https://localhost:8080/"
        }
      },
      "source": [
        "def check(s1, s2):   \n",
        "    if(sorted(s1) == sorted(s2)): \n",
        "        print(\"The strings are anagrams.\")  \n",
        "    else: \n",
        "        print(\"The strings aren't anagrams.\")          \n",
        "        \n",
        "s1 =\"listen\"\n",
        "s2 =\"silent\" \n",
        "check(s1, s2) "
      ],
      "execution_count": 34,
      "outputs": [
        {
          "output_type": "stream",
          "text": [
            "The strings are anagrams.\n"
          ],
          "name": "stdout"
        }
      ]
    },
    {
      "cell_type": "markdown",
      "metadata": {
        "id": "TSk4qXoLURjq"
      },
      "source": [
        "Convert Decimal to Binary, Octal and Hexadecimal"
      ]
    },
    {
      "cell_type": "code",
      "metadata": {
        "id": "kpiOl1vvRz4c",
        "outputId": "7d746556-00a0-4e98-c4c7-ab892f6376a3",
        "colab": {
          "base_uri": "https://localhost:8080/"
        }
      },
      "source": [
        "dec = int(input(\"Enter Decimal Number : \"))\n",
        "print(bin(dec), \"in binary\")\n",
        "print(oct(dec), \"in octal\")\n",
        "print(hex(dec), \"in hexa decimal\")"
      ],
      "execution_count": 35,
      "outputs": [
        {
          "output_type": "stream",
          "text": [
            "Enter Decimal Number : 12\n",
            "0b1100 in binary\n",
            "0o14 in octal\n",
            "0xc in hexa decimal\n"
          ],
          "name": "stdout"
        }
      ]
    },
    {
      "cell_type": "markdown",
      "metadata": {
        "id": "PuTa1qA71wby"
      },
      "source": [
        "**Binary right angle triangle**"
      ]
    },
    {
      "cell_type": "code",
      "metadata": {
        "id": "H3IAiG55U0L1",
        "outputId": "a089d726-c976-4206-a40a-a40f3aa290da",
        "colab": {
          "base_uri": "https://localhost:8080/"
        }
      },
      "source": [
        "def binaryRightAngleTriangle(n):  \n",
        "    for row in range(0, n):  \n",
        "        for col in range(0, row + 1):  \n",
        "            if (((row + col) % 2) == 0) : \n",
        "                print(\"0\", end = \"\") \n",
        "            else: \n",
        "                print(\"1\", end = \"\") \n",
        "            print(\" \", end = \"\") \n",
        "          \n",
        "        print(\"\") \n",
        "\n",
        "n = 4\n",
        "binaryRightAngleTriangle(n)"
      ],
      "execution_count": 36,
      "outputs": [
        {
          "output_type": "stream",
          "text": [
            "0 \n",
            "1 0 \n",
            "0 1 0 \n",
            "1 0 1 0 \n"
          ],
          "name": "stdout"
        }
      ]
    },
    {
      "cell_type": "code",
      "metadata": {
        "id": "MzWdkl2T1-3J",
        "outputId": "82f9bbe6-3e6d-4eb5-bd7f-79880e96acaa",
        "colab": {
          "base_uri": "https://localhost:8080/"
        }
      },
      "source": [
        "def binaryRightAngleTriangle(n):  \n",
        "    for row in range(0, n):  \n",
        "        for col in range(0, row + 1):  \n",
        "            if (((row + col) % 2) == 0) : \n",
        "                print(\"1\", end = \"\") \n",
        "            else: \n",
        "                print(\"0\", end = \"\") \n",
        "            print(\" \", end = \"\") \n",
        "          \n",
        "        print(\"\") \n",
        "\n",
        "n = 4\n",
        "binaryRightAngleTriangle(n)"
      ],
      "execution_count": 37,
      "outputs": [
        {
          "output_type": "stream",
          "text": [
            "1 \n",
            "0 1 \n",
            "1 0 1 \n",
            "0 1 0 1 \n"
          ],
          "name": "stdout"
        }
      ]
    },
    {
      "cell_type": "markdown",
      "metadata": {
        "id": "R6T5bEia2UeK"
      },
      "source": [
        "modified Binary triangle pattern\n",
        "\n",
        "\n",
        "```\n",
        "In Modified Binary Triangle Pattern, the first and last element of a Nth row are 1 and the middle (N – 2) elements are 0.\n",
        "```\n",
        "\n"
      ]
    },
    {
      "cell_type": "code",
      "metadata": {
        "id": "yIKaeOhU2Nm4",
        "outputId": "5f68221f-3c56-4dcd-9b56-dcf2d4255be5",
        "colab": {
          "base_uri": "https://localhost:8080/"
        }
      },
      "source": [
        "def modifiedBinaryPattern(n): \n",
        "      \n",
        "    # Loop to traverse the rows \n",
        "    for i in range(1, n + 1, 1): \n",
        "  \n",
        "        # Loop to traverse the \n",
        "        # numbers in each row \n",
        "        for j in range(1, i + 1, 1): \n",
        "              \n",
        "            # Check if j is 1 or i \n",
        "            # In either case print 1 \n",
        "            if (j == 1 or j == i): \n",
        "                print(1, end = \"\") \n",
        "  \n",
        "            # Else print 0 \n",
        "            else: \n",
        "                print(0, end = \"\") \n",
        "        print('\\n', end = \"\") \n",
        "\n",
        "if __name__ == '__main__':  \n",
        "    n = 7\n",
        "    modifiedBinaryPattern(n) "
      ],
      "execution_count": 38,
      "outputs": [
        {
          "output_type": "stream",
          "text": [
            "1\n",
            "11\n",
            "101\n",
            "1001\n",
            "10001\n",
            "100001\n",
            "1000001\n"
          ],
          "name": "stdout"
        }
      ]
    },
    {
      "cell_type": "code",
      "metadata": {
        "id": "9YNJx4N13DHg"
      },
      "source": [
        ""
      ],
      "execution_count": 38,
      "outputs": []
    },
    {
      "cell_type": "markdown",
      "metadata": {
        "id": "tb8rE4a9GSYV"
      },
      "source": [
        "**Decoraters**\n",
        "* Python's decorators allow you to extend and modify the behavior of a callable (functions, methods, and classes) without permanently modifying the callable itself.\n",
        "* Using the decoraters we can add extra fetures in exitsting method or function"
      ]
    },
    {
      "cell_type": "code",
      "metadata": {
        "id": "JX-Bci1PGiln"
      },
      "source": [
        "# @smart_div\n",
        "# def div(a, b):\n",
        "#     print(\"Value of a : \", a)\n",
        "#     print(\"Value of b : \", b)\n",
        "#     print(\"Division of a and b : \",a/b)\n",
        "\n",
        "# def smart_div(func):\n",
        "    \n",
        "#     def inner(a, b):\n",
        "#         if a < b:\n",
        "#             a, b = b, a\n",
        "#         return func(a, b)\n",
        "#     return inner \n",
        "# div = smart_div(div)\n",
        "# div(2, 4)            "
      ],
      "execution_count": 39,
      "outputs": []
    },
    {
      "cell_type": "markdown",
      "metadata": {
        "id": "tZn2zuYdKbeI"
      },
      "source": [
        "**First Class Object:** In python, Everything is treated as an object including all the data type, functions too. Therefore, a function is also known as firs_class-object and can be passed around as argument.\n",
        "\n",
        "**Inner-Function:** It is possivle to define functions inside a function. That function is called an inner function"
      ]
    },
    {
      "cell_type": "code",
      "metadata": {
        "id": "JUZGQJ3PJWVg",
        "outputId": "f6f31730-40b0-40e6-bd55-1cfdeba80d07",
        "colab": {
          "base_uri": "https://localhost:8080/"
        }
      },
      "source": [
        "def simple():  \n",
        "    for i in range(10):  \n",
        "        if(i%2==0):  \n",
        "            yield i\n",
        "            # return i\n",
        "#Successive Function call using for loop  \n",
        "for i in simple():  \n",
        "    print(i)  "
      ],
      "execution_count": 40,
      "outputs": [
        {
          "output_type": "stream",
          "text": [
            "0\n",
            "2\n",
            "4\n",
            "6\n",
            "8\n"
          ],
          "name": "stdout"
        }
      ]
    },
    {
      "cell_type": "code",
      "metadata": {
        "id": "fVEU5sM_PP9L",
        "outputId": "8e89112b-48e1-42ff-b222-81568fba875d",
        "colab": {
          "base_uri": "https://localhost:8080/"
        }
      },
      "source": [
        "def table(n):\n",
        "    for i in range(1, 11):\n",
        "        yield n*i \n",
        "        i += 1\n",
        "for i in table(15):\n",
        "    print(i)        \n"
      ],
      "execution_count": 41,
      "outputs": [
        {
          "output_type": "stream",
          "text": [
            "15\n",
            "30\n",
            "45\n",
            "60\n",
            "75\n",
            "90\n",
            "105\n",
            "120\n",
            "135\n",
            "150\n"
          ],
          "name": "stdout"
        }
      ]
    },
    {
      "cell_type": "code",
      "metadata": {
        "id": "zi5pcIXJSRdl"
      },
      "source": [
        "# Infinte loop\n",
        "def infinite_sequence():\n",
        "    num = 0\n",
        "    while True:\n",
        "        yield num \n",
        "        num += 1     \n",
        "# for i in infinite_sequence():\n",
        "#     print(i)   "
      ],
      "execution_count": 42,
      "outputs": []
    },
    {
      "cell_type": "code",
      "metadata": {
        "id": "ahrMY3oiT4uR"
      },
      "source": [
        "# Another Infinite loop\n",
        "def InfiniteLoop():\n",
        "    num = 1\n",
        "    while True:\n",
        "        print(\"Hello India\")\n",
        "        num += 1     "
      ],
      "execution_count": 43,
      "outputs": []
    },
    {
      "cell_type": "markdown",
      "metadata": {
        "id": "CAqRhZ-6Y3Fh"
      },
      "source": [
        "Arbitrary Arguments, *args\n",
        "\n",
        "* If you do not know how many arguments that will be passed into your function, add a * before the parameter name in the function definition.\n",
        "\n",
        "* This way the function will receive a tuple of arguments, and can access the items accordingly:"
      ]
    },
    {
      "cell_type": "code",
      "metadata": {
        "id": "1r5NJjUdVR9Y",
        "outputId": "30d7d5b8-6fd6-4754-9a6e-c19fd0b28947",
        "colab": {
          "base_uri": "https://localhost:8080/"
        }
      },
      "source": [
        "def my_function(*kids):\n",
        "    print(\"The youngest child is : \", kids[2])\n",
        "my_function(\"Moolchand Singh\", \"Mahaveer SIngh\", \"Mahendra Singh\", \"Mohit Singh\", \"Sevak Singh\")    "
      ],
      "execution_count": 44,
      "outputs": [
        {
          "output_type": "stream",
          "text": [
            "The youngest child is :  Mahendra Singh\n"
          ],
          "name": "stdout"
        }
      ]
    },
    {
      "cell_type": "markdown",
      "metadata": {
        "id": "jIoFy3gvZJNa"
      },
      "source": [
        "Arbitrary Keyword Arguments, **kwargs\n",
        "\n",
        "* If you do not know how many keyword arguments that will be passed into your function, add two asterisk: ** before the parameter name in the function definition.\n",
        "\n",
        "* This way the function will receive a dictionary of arguments, and can access the items accordingly:"
      ]
    },
    {
      "cell_type": "code",
      "metadata": {
        "id": "6QZ7ctpXVUd4",
        "outputId": "a6ac30f7-058b-4f81-946d-4b716c73e9c7",
        "colab": {
          "base_uri": "https://localhost:8080/"
        }
      },
      "source": [
        "def my_function_1(**kid):\n",
        "    print(\"Last name of the Kid\", kid[\"lastName\"])\n",
        "\n",
        "my_function_1(fistName = \"Mahaveer\", lastName = \"Singh\")    "
      ],
      "execution_count": 45,
      "outputs": [
        {
          "output_type": "stream",
          "text": [
            "Last name of the Kid Singh\n"
          ],
          "name": "stdout"
        }
      ]
    },
    {
      "cell_type": "code",
      "metadata": {
        "id": "E4o1tEBqYpaT",
        "outputId": "82566690-32ea-449c-c90c-446b0b467bed",
        "colab": {
          "base_uri": "https://localhost:8080/"
        }
      },
      "source": [
        "class Base:\n",
        "    def __init__(self):\n",
        "        #Protacted Member\n",
        "        self._a = 2\n",
        "class Drived(Base):\n",
        "    def __init__(self):\n",
        "        Base.__init__(self)\n",
        "        print(\"Calling Protacted Member of the Base Class:\")\n",
        "        print(self._a)\n",
        "obj1 = Drived()\n",
        "obj1._a \n",
        "obj2 = Base()\n",
        "print(obj2._a)          "
      ],
      "execution_count": 46,
      "outputs": [
        {
          "output_type": "stream",
          "text": [
            "Calling Protacted Member of the Base Class:\n",
            "2\n",
            "2\n"
          ],
          "name": "stdout"
        }
      ]
    },
    {
      "cell_type": "code",
      "metadata": {
        "id": "VWFLw3dEbXOu",
        "outputId": "f01055c8-fd74-4917-f2f3-324bf9f55bd2",
        "colab": {
          "base_uri": "https://localhost:8080/"
        }
      },
      "source": [
        "#creating a base class\n",
        "class Base:\n",
        "    def __init__(self):\n",
        "        self.a = \"GeeksforGeeks\"\n",
        "        self.__c = \"GeeksforGeeks\"\n",
        "# creating a Drived Class\n",
        "class Drived(Base):\n",
        "    def __init__(self):\n",
        "        #calling the constructor of base class \n",
        "        Base.__init__(self)\n",
        "        print(\"Calling private member of base class \")\n",
        "        print(self._Base__c)\n",
        "obj1 = Base()\n",
        "print(obj1.a)\n",
        "# print(obj1.__c)\n",
        "obj2 = Drived()\n",
        "print(obj2._Base__c) # Call the Private data outside the class using class itself[meaning : obj._classname__variable]"
      ],
      "execution_count": 47,
      "outputs": [
        {
          "output_type": "stream",
          "text": [
            "GeeksforGeeks\n",
            "Calling private member of base class \n",
            "GeeksforGeeks\n",
            "GeeksforGeeks\n"
          ],
          "name": "stdout"
        }
      ]
    },
    {
      "cell_type": "markdown",
      "metadata": {
        "id": "qkPbHhHi2VqE"
      },
      "source": [
        "**Pattern 1-121-12321 pyramid pattern**"
      ]
    },
    {
      "cell_type": "code",
      "metadata": {
        "id": "6ruFqGuldEJn",
        "outputId": "4506ede4-f420-4ba8-ed4c-2137fd92e53c",
        "colab": {
          "base_uri": "https://localhost:8080/"
        }
      },
      "source": [
        "n = 5\n",
        "for i in range(1, n + 1):\n",
        "    # for space\n",
        "    for j in range(1, n + 1 - i):\n",
        "        print(\" \", end = \" \")\n",
        "    # for incriment pattern\n",
        "    for j in range(1, i + 1):\n",
        "        print(j, end = \" \")\n",
        "    # for decriment the pattern \n",
        "    for j in range(i-1, 0, -1):\n",
        "        print(j, end = \" \")\n",
        "    print()             "
      ],
      "execution_count": 48,
      "outputs": [
        {
          "output_type": "stream",
          "text": [
            "        1 \n",
            "      1 2 1 \n",
            "    1 2 3 2 1 \n",
            "  1 2 3 4 3 2 1 \n",
            "1 2 3 4 5 4 3 2 1 \n"
          ],
          "name": "stdout"
        }
      ]
    },
    {
      "cell_type": "code",
      "metadata": {
        "id": "aZE95eu_3HHl",
        "outputId": "f5b8cf36-5c9d-494a-c66c-2b3b18100eb3",
        "colab": {
          "base_uri": "https://localhost:8080/"
        }
      },
      "source": [
        "n = 5\n",
        "for i in range(1, n + 1):\n",
        "    # for space\n",
        "    # for j in range(1, n + 1 - i):\n",
        "    #     print(\" \", end = \" \")\n",
        "    # for incriment pattern\n",
        "    for j in range(1, i + 1):\n",
        "        print(j, end = \" \")\n",
        "    # for decriment the pattern \n",
        "    for j in range(i-1, 0, -1):\n",
        "        print(j, end = \" \")\n",
        "    print() "
      ],
      "execution_count": 49,
      "outputs": [
        {
          "output_type": "stream",
          "text": [
            "1 \n",
            "1 2 1 \n",
            "1 2 3 2 1 \n",
            "1 2 3 4 3 2 1 \n",
            "1 2 3 4 5 4 3 2 1 \n"
          ],
          "name": "stdout"
        }
      ]
    },
    {
      "cell_type": "markdown",
      "metadata": {
        "id": "uNDKNHKNqe0h"
      },
      "source": [
        "**Find the Missing Number**\n",
        "* You are given a list of n-1 integers and these integers are in the range of 1 to n. \n",
        "* There are no duplicates in the list. One of the integers is missing in the list. \n",
        "* Write an efficient code to find the missing integer.\n",
        "* **Example:**\n",
        "\n",
        "* **Input:** arr[] = {1, 2, 4, 6, 3, 7, 8}\n",
        "* **Output:** 5\n",
        "* **Explanation:** The missing number from 1 to 8 is 5\n",
        "\n"
      ]
    },
    {
      "cell_type": "code",
      "metadata": {
        "id": "6JMkBP3J3YB9"
      },
      "source": [
        "def getMissingNumber(arr):\n",
        "    n = len(arr)\n",
        "    total = (n + 1)*(n + 2)/2\n",
        "    sum_of_arr = sum(arr)\n",
        "    return total - sum_of_arr"
      ],
      "execution_count": 50,
      "outputs": []
    },
    {
      "cell_type": "code",
      "metadata": {
        "id": "G3eJ1IEesPFx",
        "outputId": "135bb6a4-4d6c-4731-aa5a-5aa295b4b660",
        "colab": {
          "base_uri": "https://localhost:8080/"
        }
      },
      "source": [
        "arr = list(range(1, 101))\n",
        "print(arr)"
      ],
      "execution_count": 51,
      "outputs": [
        {
          "output_type": "stream",
          "text": [
            "[1, 2, 3, 4, 5, 6, 7, 8, 9, 10, 11, 12, 13, 14, 15, 16, 17, 18, 19, 20, 21, 22, 23, 24, 25, 26, 27, 28, 29, 30, 31, 32, 33, 34, 35, 36, 37, 38, 39, 40, 41, 42, 43, 44, 45, 46, 47, 48, 49, 50, 51, 52, 53, 54, 55, 56, 57, 58, 59, 60, 61, 62, 63, 64, 65, 66, 67, 68, 69, 70, 71, 72, 73, 74, 75, 76, 77, 78, 79, 80, 81, 82, 83, 84, 85, 86, 87, 88, 89, 90, 91, 92, 93, 94, 95, 96, 97, 98, 99, 100]\n"
          ],
          "name": "stdout"
        }
      ]
    },
    {
      "cell_type": "code",
      "metadata": {
        "id": "yT9JEbRgscqM"
      },
      "source": [
        "arr.remove(15) # Remove a number that is 15"
      ],
      "execution_count": 52,
      "outputs": []
    },
    {
      "cell_type": "code",
      "metadata": {
        "id": "QSijqU4HsljM",
        "outputId": "91b42c84-6091-414a-b763-f87e3d31e976",
        "colab": {
          "base_uri": "https://localhost:8080/"
        }
      },
      "source": [
        "print(arr)"
      ],
      "execution_count": 53,
      "outputs": [
        {
          "output_type": "stream",
          "text": [
            "[1, 2, 3, 4, 5, 6, 7, 8, 9, 10, 11, 12, 13, 14, 16, 17, 18, 19, 20, 21, 22, 23, 24, 25, 26, 27, 28, 29, 30, 31, 32, 33, 34, 35, 36, 37, 38, 39, 40, 41, 42, 43, 44, 45, 46, 47, 48, 49, 50, 51, 52, 53, 54, 55, 56, 57, 58, 59, 60, 61, 62, 63, 64, 65, 66, 67, 68, 69, 70, 71, 72, 73, 74, 75, 76, 77, 78, 79, 80, 81, 82, 83, 84, 85, 86, 87, 88, 89, 90, 91, 92, 93, 94, 95, 96, 97, 98, 99, 100]\n"
          ],
          "name": "stdout"
        }
      ]
    },
    {
      "cell_type": "code",
      "metadata": {
        "id": "p5zWwRnBsLSE",
        "outputId": "d2d24d8c-8df7-47ea-89b9-62fbf331e91e",
        "colab": {
          "base_uri": "https://localhost:8080/"
        }
      },
      "source": [
        "# Driver program to test the above function\n",
        "miss = getMissingNumber(arr)\n",
        "print(int(miss))"
      ],
      "execution_count": 54,
      "outputs": [
        {
          "output_type": "stream",
          "text": [
            "15\n"
          ],
          "name": "stdout"
        }
      ]
    },
    {
      "cell_type": "code",
      "metadata": {
        "id": "u2iwI3ZNsugO",
        "outputId": "d43572b1-813b-47de-c393-c9a263b640e3",
        "colab": {
          "base_uri": "https://localhost:8080/"
        }
      },
      "source": [
        "n = 5 # how many number you want to print\n",
        "for i in range(1, n + 1):\n",
        "    for gap in range(1, n - i + 1):          #      1\n",
        "        print(end = \" \")                     #     212\n",
        "    for j in range(i, 0, -1):                #    32123\n",
        "        print(j, end = \"\")                   #   4321234\n",
        "    for j in range(2, i+1):                  #  543212345\n",
        "        print(j, end = \"\")\n",
        "    print()"
      ],
      "execution_count": 55,
      "outputs": [
        {
          "output_type": "stream",
          "text": [
            "    1\n",
            "   212\n",
            "  32123\n",
            " 4321234\n",
            "543212345\n"
          ],
          "name": "stdout"
        }
      ]
    }
  ]
}