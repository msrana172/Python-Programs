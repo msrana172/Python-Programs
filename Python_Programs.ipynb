{
  "nbformat": 4,
  "nbformat_minor": 0,
  "metadata": {
    "colab": {
      "name": "Python_Programs.ipynb",
      "provenance": [],
      "authorship_tag": "ABX9TyNgshYYiJd/GIek38ei10+0",
      "include_colab_link": true
    },
    "kernelspec": {
      "name": "python3",
      "display_name": "Python 3"
    }
  },
  "cells": [
    {
      "cell_type": "markdown",
      "metadata": {
        "id": "view-in-github",
        "colab_type": "text"
      },
      "source": [
        "<a href=\"https://colab.research.google.com/github/msrana172/Python-Programs/blob/master/Python_Programs.ipynb\" target=\"_parent\"><img src=\"https://colab.research.google.com/assets/colab-badge.svg\" alt=\"Open In Colab\"/></a>"
      ]
    },
    {
      "cell_type": "markdown",
      "metadata": {
        "id": "qHg-bFesXDmw"
      },
      "source": [
        "**Python Programs**"
      ]
    },
    {
      "cell_type": "markdown",
      "metadata": {
        "id": "ZxiI4mPdXMAH"
      },
      "source": [
        "Area of circle"
      ]
    },
    {
      "cell_type": "code",
      "metadata": {
        "id": "BVUrT3brXCJR",
        "outputId": "2e31646f-587c-4a00-a7bb-c47cc72a7f86",
        "colab": {
          "base_uri": "https://localhost:8080/",
          "height": 35
        }
      },
      "source": [
        "import math\n",
        "# print(math.factorial(5))\n",
        "def areaOfCircle(r):\n",
        "    area = math.pi*r**2\n",
        "    return area\n",
        "r = 2\n",
        "print(areaOfCircle(r))"
      ],
      "execution_count": 26,
      "outputs": [
        {
          "output_type": "stream",
          "text": [
            "12.566370614359172\n"
          ],
          "name": "stdout"
        }
      ]
    },
    {
      "cell_type": "markdown",
      "metadata": {
        "id": "6J9bdHz2XRYj"
      },
      "source": [
        "All prime number in a Interval"
      ]
    },
    {
      "cell_type": "code",
      "metadata": {
        "id": "aEzSgY3sXPaQ",
        "outputId": "febf04d7-bbf6-4e82-9a8c-6ea10a0e17e9",
        "colab": {
          "base_uri": "https://localhost:8080/",
          "height": 35
        }
      },
      "source": [
        "start = 11\n",
        "end = 25\n",
        "for i in range(start, end):\n",
        "    for j in range(2, i):\n",
        "        if i%j == 0:\n",
        "            break\n",
        "    else:\n",
        "       print(i, end = \" \")        "
      ],
      "execution_count": 27,
      "outputs": [
        {
          "output_type": "stream",
          "text": [
            "11 13 17 19 23 "
          ],
          "name": "stdout"
        }
      ]
    },
    {
      "cell_type": "markdown",
      "metadata": {
        "id": "vGiALOtccYnO"
      },
      "source": [
        "Given Number is Prime or Not"
      ]
    },
    {
      "cell_type": "code",
      "metadata": {
        "id": "s1EKDGK9Xo3F",
        "outputId": "c95c7c04-8669-40fc-cea3-17afe579d489",
        "colab": {
          "base_uri": "https://localhost:8080/",
          "height": 35
        }
      },
      "source": [
        "num = 11\n",
        "if num > 1:\n",
        "    for i in range(2, num):\n",
        "        if num%i == 0:\n",
        "            print(num, \"is not a prime number\")\n",
        "            break\n",
        "    else:\n",
        "        print(num, \"is prime\")\n",
        "else:\n",
        "    print(num, 'is not a prime number')    \n"
      ],
      "execution_count": 28,
      "outputs": [
        {
          "output_type": "stream",
          "text": [
            "11 is prime\n"
          ],
          "name": "stdout"
        }
      ]
    },
    {
      "cell_type": "markdown",
      "metadata": {
        "id": "8ZU0RGD4hDCE"
      },
      "source": [
        "GCD of two numbers"
      ]
    },
    {
      "cell_type": "code",
      "metadata": {
        "id": "7E2I4v5Odh14",
        "outputId": "3f251a8a-1a79-46a6-dc74-edc19c545f2f",
        "colab": {
          "base_uri": "https://localhost:8080/",
          "height": 35
        }
      },
      "source": [
        "def GCD(a, b):\n",
        "    if b == 0:\n",
        "        return a\n",
        "    else:\n",
        "        return GCD(b, a%b)\n",
        "num1 = 18\n",
        "num2 = 24\n",
        "print(GCD(num1, num2))           "
      ],
      "execution_count": 29,
      "outputs": [
        {
          "output_type": "stream",
          "text": [
            "6\n"
          ],
          "name": "stdout"
        }
      ]
    },
    {
      "cell_type": "code",
      "metadata": {
        "id": "8OVND34miFG5"
      },
      "source": [
        "lcm = num1*num2/GCD(num1, num2)"
      ],
      "execution_count": 30,
      "outputs": []
    },
    {
      "cell_type": "code",
      "metadata": {
        "id": "RMARx3d6i-WV",
        "outputId": "22702793-2c84-4bc5-f643-d941552278d8",
        "colab": {
          "base_uri": "https://localhost:8080/",
          "height": 35
        }
      },
      "source": [
        "lcm"
      ],
      "execution_count": 31,
      "outputs": [
        {
          "output_type": "execute_result",
          "data": {
            "text/plain": [
              "72.0"
            ]
          },
          "metadata": {
            "tags": []
          },
          "execution_count": 31
        }
      ]
    },
    {
      "cell_type": "markdown",
      "metadata": {
        "id": "SP6PtAiXkomU"
      },
      "source": [
        "fibonacci series"
      ]
    },
    {
      "cell_type": "code",
      "metadata": {
        "id": "9OhU0NrAi_OH"
      },
      "source": [
        "def fib(n):\n",
        "    a = 0\n",
        "    b = 1\n",
        "    if n < 0:\n",
        "        print(\"Incorrect Input\")\n",
        "    elif n == 0:\n",
        "        return a\n",
        "    elif n == 1:\n",
        "        return b\n",
        "    else:\n",
        "        for i in range(2, n):\n",
        "            c = a + b\n",
        "            a = b\n",
        "            b = c \n",
        "        return b\n",
        "def fib1(n):\n",
        "    if n<0:\n",
        "        print(\"Incorrect Input\")\n",
        "    elif n == 1:\n",
        "        return 0\n",
        "    elif n == 2:\n",
        "        return 1\n",
        "    else: \n",
        "        return fib1(n-1) + fib1(n-2)\n"
      ],
      "execution_count": 32,
      "outputs": []
    },
    {
      "cell_type": "code",
      "metadata": {
        "id": "jsBI0xDnl68p",
        "outputId": "15a5c43c-5385-4861-8e3c-83525fb95521",
        "colab": {
          "base_uri": "https://localhost:8080/",
          "height": 52
        }
      },
      "source": [
        "n = 9\n",
        "print(fib(n))\n",
        "print(fib1(n))"
      ],
      "execution_count": 33,
      "outputs": [
        {
          "output_type": "stream",
          "text": [
            "21\n",
            "21\n"
          ],
          "name": "stdout"
        }
      ]
    },
    {
      "cell_type": "markdown",
      "metadata": {
        "id": "4ecwG0XXbye_"
      },
      "source": [
        "* Pttern Printing"
      ]
    },
    {
      "cell_type": "code",
      "metadata": {
        "id": "lTy_ql5jmHKH",
        "outputId": "a14a4244-38a9-4c91-a821-1e8d0bdee793",
        "colab": {
          "base_uri": "https://localhost:8080/",
          "height": 104
        }
      },
      "source": [
        "# *\n",
        "# * *\n",
        "# * * *\n",
        "# * * * *\n",
        "# * * * * *\n",
        "n = 5\n",
        "for i in range(1, n + 1):\n",
        "    for j in range(1, i + 1):\n",
        "        print(\"*\", end = \" \")\n",
        "    print()     "
      ],
      "execution_count": 34,
      "outputs": [
        {
          "output_type": "stream",
          "text": [
            "* \n",
            "* * \n",
            "* * * \n",
            "* * * * \n",
            "* * * * * \n"
          ],
          "name": "stdout"
        }
      ]
    },
    {
      "cell_type": "code",
      "metadata": {
        "id": "IV-lxxDqbooH",
        "outputId": "70b9fc29-5081-43db-f709-696edba584d5",
        "colab": {
          "base_uri": "https://localhost:8080/",
          "height": 69
        }
      },
      "source": [
        "#Pattern-2\n",
        "n = 3\n",
        "k = 1\n",
        "for i in range(1, n + 1):                           # * \n",
        "    for j in range(1, k + 1):                       # * * *\n",
        "        print(\"*\", end = \" \")                       # * * * * *\n",
        "    k += 2    \n",
        "    print()    "
      ],
      "execution_count": 35,
      "outputs": [
        {
          "output_type": "stream",
          "text": [
            "* \n",
            "* * * \n",
            "* * * * * \n"
          ],
          "name": "stdout"
        }
      ]
    },
    {
      "cell_type": "code",
      "metadata": {
        "id": "kt6HG1BLcwYt",
        "outputId": "fb37059d-64ce-4c06-ca42-1ab38b30f973",
        "colab": {
          "base_uri": "https://localhost:8080/",
          "height": 104
        }
      },
      "source": [
        "# Pattern - 3\n",
        "def triangle(n):\n",
        "    k = 2*n - 2\n",
        "    for i in range(0, n):\n",
        "        for j in range(0, k):\n",
        "            print(end = \" \")\n",
        "        k = k - 2\n",
        "        for j in range(0, i + 1):\n",
        "            print(\"*\", end = \" \")\n",
        "        print(\"\\r\")  \n",
        "n = 5\n",
        "triangle(n)               "
      ],
      "execution_count": 36,
      "outputs": [
        {
          "output_type": "stream",
          "text": [
            "        * \r\n",
            "      * * \r\n",
            "    * * * \r\n",
            "  * * * * \r\n",
            "* * * * * \r\n"
          ],
          "name": "stdout"
        }
      ]
    },
    {
      "cell_type": "code",
      "metadata": {
        "id": "0aI1m3H7fZSJ",
        "outputId": "970a08f3-7b21-4f4d-cc9f-125259eea5e3",
        "colab": {
          "base_uri": "https://localhost:8080/",
          "height": 104
        }
      },
      "source": [
        "def triangle(n):\n",
        "    k = 2*n - 2\n",
        "    for i in range(0, n):\n",
        "        for j in range(0, k):\n",
        "            print(end = \" \")\n",
        "        k = k - 1\n",
        "        for j in range(0, i + 1):\n",
        "            print(\"*\", end = \" \")\n",
        "        print(\"\\r\")  \n",
        "n = 5\n",
        "triangle(n)          "
      ],
      "execution_count": 37,
      "outputs": [
        {
          "output_type": "stream",
          "text": [
            "        * \r\n",
            "       * * \r\n",
            "      * * * \r\n",
            "     * * * * \r\n",
            "    * * * * * \r\n"
          ],
          "name": "stdout"
        }
      ]
    },
    {
      "cell_type": "code",
      "metadata": {
        "id": "cv4ZJjKCjYgE",
        "outputId": "31efa391-366c-47f0-949f-ac5a5aa55301",
        "colab": {
          "base_uri": "https://localhost:8080/",
          "height": 104
        }
      },
      "source": [
        "def triangle(n):\n",
        "    k = 2*n - 2\n",
        "    for i in range(0, n):\n",
        "        for j in range(0, k):\n",
        "            print(end = \" \")\n",
        "        k = k - 1\n",
        "        for j in range(0, i + 1):\n",
        "            print(\"*\", end = \" \")\n",
        "        print(\"\\r\")  \n",
        "n = 5\n",
        "triangle(n)          "
      ],
      "execution_count": 38,
      "outputs": [
        {
          "output_type": "stream",
          "text": [
            "        * \r\n",
            "       * * \r\n",
            "      * * * \r\n",
            "     * * * * \n",
            "    * * * * * \n"
          ],
          "name": "stdout"
        }
      ]
    },
    {
      "cell_type": "code",
      "metadata": {
        "id": "gtBWhMSAlHmR",
        "outputId": "454f2fcb-98df-4bc5-9537-bc25ebc5dbe3",
        "colab": {
          "base_uri": "https://localhost:8080/",
          "height": 104
        }
      },
      "source": [
        "n = 5\n",
        "for i in range(1, n + 1):\n",
        "   for gap in range(1, (n - i) + 1):\n",
        "      print(end = \" \")\n",
        "   for i in range(2*i - 1):\n",
        "      print(\"*\", end = \"\")\n",
        "   print()"
      ],
      "execution_count": 39,
      "outputs": [
        {
          "output_type": "stream",
          "text": [
            "    *\n",
            "   ***\n",
            "  *****\n",
            " *******\n",
            "*********\n"
          ],
          "name": "stdout"
        }
      ]
    },
    {
      "cell_type": "code",
      "metadata": {
        "id": "zuDZ8Sw3lOu-",
        "outputId": "8089f22d-7d06-462b-8888-c1ead18a3421",
        "colab": {
          "base_uri": "https://localhost:8080/",
          "height": 104
        }
      },
      "source": [
        "n = 5\n",
        "for i in range(1, n + 1):\n",
        "    for j in range(1, i + 1):\n",
        "        print(i, end = \" \")\n",
        "    print()   "
      ],
      "execution_count": 40,
      "outputs": [
        {
          "output_type": "stream",
          "text": [
            "1 \n",
            "2 2 \n",
            "3 3 3 \n",
            "4 4 4 4 \n",
            "5 5 5 5 5 \n"
          ],
          "name": "stdout"
        }
      ]
    },
    {
      "cell_type": "code",
      "metadata": {
        "id": "BbyMpZQyoQfY",
        "outputId": "d6980a41-e0be-4b7b-d012-3bcce119e801",
        "colab": {
          "base_uri": "https://localhost:8080/",
          "height": 104
        }
      },
      "source": [
        "n = 5\n",
        "for i in range(1, n + 1):\n",
        "    for j in range(1, i + 1):\n",
        "        print(j, end = \" \")\n",
        "    print()"
      ],
      "execution_count": 41,
      "outputs": [
        {
          "output_type": "stream",
          "text": [
            "1 \n",
            "1 2 \n",
            "1 2 3 \n",
            "1 2 3 4 \n",
            "1 2 3 4 5 \n"
          ],
          "name": "stdout"
        }
      ]
    },
    {
      "cell_type": "code",
      "metadata": {
        "id": "wQ-pY5zwoc3b",
        "outputId": "811b5cdb-c652-4d0d-b3d8-b9114791c76e",
        "colab": {
          "base_uri": "https://localhost:8080/",
          "height": 104
        }
      },
      "source": [
        "n = 5\n",
        "b = 0\n",
        "for i in range(n, 0, -1):\n",
        "    b += 1\n",
        "    for j in range(1, i + 1):\n",
        "        print(b, end = \" \")\n",
        "    print()    "
      ],
      "execution_count": 42,
      "outputs": [
        {
          "output_type": "stream",
          "text": [
            "1 1 1 1 1 \n",
            "2 2 2 2 \n",
            "3 3 3 \n",
            "4 4 \n",
            "5 \n"
          ],
          "name": "stdout"
        }
      ]
    },
    {
      "cell_type": "code",
      "metadata": {
        "id": "GT-F6N9Dv1ZX",
        "outputId": "e9a77928-8ce2-4753-b22b-784eebf2e127",
        "colab": {
          "base_uri": "https://localhost:8080/",
          "height": 104
        }
      },
      "source": [
        "n = 5\n",
        "b = 5\n",
        "for i in range(n, 0, -1):\n",
        "    # b += 1\n",
        "    for j in range(1, i + 1):\n",
        "        print(b, end = \" \")\n",
        "    b -= 1    \n",
        "    print()  "
      ],
      "execution_count": 43,
      "outputs": [
        {
          "output_type": "stream",
          "text": [
            "5 5 5 5 5 \n",
            "4 4 4 4 \n",
            "3 3 3 \n",
            "2 2 \n",
            "1 \n"
          ],
          "name": "stdout"
        }
      ]
    },
    {
      "cell_type": "code",
      "metadata": {
        "id": "r8mgw80KxN8Y",
        "outputId": "ce15e12a-9913-488c-a3e2-1d9e589ea28b",
        "colab": {
          "base_uri": "https://localhost:8080/",
          "height": 104
        }
      },
      "source": [
        "n = 5\n",
        "m = n\n",
        "for i in range(n , 0, -1):\n",
        "    for j in range(1, i + 1):\n",
        "        print(m, end = \" \")\n",
        "    print('\\r')    "
      ],
      "execution_count": 44,
      "outputs": [
        {
          "output_type": "stream",
          "text": [
            "5 5 5 5 5 \r\n",
            "5 5 5 5 \r\n",
            "5 5 5 \r\n",
            "5 5 \r\n",
            "5 \r\n"
          ],
          "name": "stdout"
        }
      ]
    },
    {
      "cell_type": "code",
      "metadata": {
        "id": "f2xPm8cL0SSj",
        "outputId": "abccb12f-9a74-4c56-90ca-65fc588ee1de",
        "colab": {
          "base_uri": "https://localhost:8080/",
          "height": 312
        }
      },
      "source": [
        "n = 5\n",
        "for i in range(n , 0, -1):\n",
        "    for j in range(1, i + 1):\n",
        "        print(i, end = \" \")\n",
        "    print('\\r')  \n",
        "\n",
        "print(\"---------\")\n",
        "\n",
        "for i in range(n , 0, -1):\n",
        "    for j in range(1, i + 1):\n",
        "        print(j, end = \" \")\n",
        "    print('\\r')     \n",
        "print(\"---------\")\n",
        "\n",
        "for i in range(n , 0, -1):\n",
        "    for j in range(0, i + 1):\n",
        "        print(j, end = \" \")\n",
        "    print('\\r')     "
      ],
      "execution_count": 45,
      "outputs": [
        {
          "output_type": "stream",
          "text": [
            "5 5 5 5 5 \r\n",
            "4 4 4 4 \r\n",
            "3 3 3 \r\n",
            "2 2 \r\n",
            "1 \r\n",
            "---------\n",
            "1 2 3 4 5 \r\n",
            "1 2 3 4 \r\n",
            "1 2 3 \r\n",
            "1 2 \r\n",
            "1 \r\n",
            "---------\n",
            "0 1 2 3 4 5 \r\n",
            "0 1 2 3 4 \r\n",
            "0 1 2 3 \r\n",
            "0 1 2 \r\n",
            "0 1 \r\n"
          ],
          "name": "stdout"
        }
      ]
    },
    {
      "cell_type": "code",
      "metadata": {
        "id": "mAzLqrxR0q7F",
        "outputId": "a18d2390-61f3-4953-aad2-50a31e0583aa",
        "colab": {
          "base_uri": "https://localhost:8080/",
          "height": 208
        }
      },
      "source": [
        "n = 5\n",
        "for i in range(1, n + 1):\n",
        "    for j in range(i, 0, -1):\n",
        "        print(j, end = \" \")\n",
        "    print()  \n",
        "\n",
        "print(\"--------\")\n",
        "\n",
        "for i in range(1, n + 1):\n",
        "    for j in range(i-1, -1, -1):\n",
        "        print(format(2**j, \"2d\"), end = \" \")\n",
        "    print()         "
      ],
      "execution_count": 46,
      "outputs": [
        {
          "output_type": "stream",
          "text": [
            "1 \n",
            "2 1 \n",
            "3 2 1 \n",
            "4 3 2 1 \n",
            "5 4 3 2 1 \n",
            "--------\n",
            " 1 \n",
            " 2  1 \n",
            " 4  2  1 \n",
            " 8  4  2  1 \n",
            "16  8  4  2  1 \n"
          ],
          "name": "stdout"
        }
      ]
    },
    {
      "cell_type": "code",
      "metadata": {
        "id": "CV5vwySG0yAk",
        "outputId": "8e4ba25b-0073-4f59-ef26-b377dec337ff",
        "colab": {
          "base_uri": "https://localhost:8080/",
          "height": 104
        }
      },
      "source": [
        "n = 5\n",
        "for i in range(1, n + 1):\n",
        "    for j in range(1, i+1, 1):\n",
        "        print(2**j, end = \" \")\n",
        "    for j in range(i-1, -1, -1):\n",
        "        print(2**j, end = \" \")\n",
        "    print()        "
      ],
      "execution_count": 47,
      "outputs": [
        {
          "output_type": "stream",
          "text": [
            "2 1 \n",
            "2 4 2 1 \n",
            "2 4 8 4 2 1 \n",
            "2 4 8 16 8 4 2 1 \n",
            "2 4 8 16 32 16 8 4 2 1 \n"
          ],
          "name": "stdout"
        }
      ]
    },
    {
      "cell_type": "code",
      "metadata": {
        "id": "Mhw0lvYJ4ndx",
        "outputId": "99223101-68d4-4f94-da49-61d41a184607",
        "colab": {
          "base_uri": "https://localhost:8080/",
          "height": 208
        }
      },
      "source": [
        "CurrentNumber = 1\n",
        "n = 5\n",
        "stop = 2\n",
        "for i in range(1, n + 1):\n",
        "    for j in range(1, stop):\n",
        "        print(format(CurrentNumber, \"4d\"), end = \" \")\n",
        "        CurrentNumber += 1\n",
        "    print()\n",
        "    stop += 2\n",
        "\n",
        "print(\"  ------------------------------------------\")\n",
        "CurrentNumber = 1\n",
        "n = 5\n",
        "stop = 2\n",
        "for i in range(1, n + 1):\n",
        "    for j in range(1, stop):\n",
        "        print(format(CurrentNumber, \"4d\"), end = \" \")\n",
        "        CurrentNumber += 1\n",
        "    print()\n",
        "    stop += 1    \n"
      ],
      "execution_count": 48,
      "outputs": [
        {
          "output_type": "stream",
          "text": [
            "   1 \n",
            "   2    3    4 \n",
            "   5    6    7    8    9 \n",
            "  10   11   12   13   14   15   16 \n",
            "  17   18   19   20   21   22   23   24   25 \n",
            "  ------------------------------------------\n",
            "   1 \n",
            "   2    3 \n",
            "   4    5    6 \n",
            "   7    8    9   10 \n",
            "  11   12   13   14   15 \n"
          ],
          "name": "stdout"
        }
      ]
    },
    {
      "cell_type": "code",
      "metadata": {
        "id": "XhTHzRV1t8VJ",
        "outputId": "59a3bdd0-df2a-454b-e20a-75fc8459ab2d",
        "colab": {
          "base_uri": "https://localhost:8080/",
          "height": 69
        }
      },
      "source": [
        "start = 1\n",
        "stop = 2\n",
        "currentNumber = stop\n",
        "n = 5\n",
        "for i in range(2, n):\n",
        "    for j in range(start, stop):\n",
        "        currentNumber -= 1\n",
        "        print(currentNumber, end = \" \")\n",
        "    print(\" \")\n",
        "    start = stop\n",
        "    stop += i\n",
        "    currentNumber = stop      "
      ],
      "execution_count": 49,
      "outputs": [
        {
          "output_type": "stream",
          "text": [
            "1  \n",
            "3 2  \n",
            "6 5 4  \n"
          ],
          "name": "stdout"
        }
      ]
    },
    {
      "cell_type": "code",
      "metadata": {
        "id": "hqmyfIBHxp6p",
        "outputId": "01b3a925-d0af-4e04-a426-4e65f17f43f6",
        "colab": {
          "base_uri": "https://localhost:8080/",
          "height": 537
        }
      },
      "source": [
        "# Online Python compiler (interpreter) to run Python online.\n",
        "# Write Python 3 code in this online editor and run it.\n",
        "# Constructor:- Constructor is a special type of method\n",
        "# which is used to initiate the instatnce member of the class\n",
        "print(\"Hello world\")\n",
        "class Employee:\n",
        "    def __init__(self, name, id):\n",
        "        self.name = name\n",
        "        self.id = id\n",
        "    def display(self):\n",
        "        print(\"Id : %d \\nName : %s\"%(self.id, self.name))\n",
        "emp1 = Employee(\"John\", 101)\n",
        "emp2 = Employee(\"Raghav\", 102)\n",
        "emp1.display()\n",
        "emp2.display()\n",
        "print(\"\\n\")\n",
        "class Car:\n",
        "    def __init__(self, modelName, year):\n",
        "        self.modelName = modelName\n",
        "        self.year = year\n",
        "    def display1(self):\n",
        "        print(\"Car Model : %s and year : %d\"%(self.modelName, self.year))\n",
        "car1 = Car(\"Toyota\", 2020) \n",
        "car2 = Car(\"Maruti\", 1996)\n",
        "car1.display1()\n",
        "car2.display1()\n",
        "print(\"\\n\")\n",
        "# Static Method in Python\n",
        "class Employee1:\n",
        "    def fun_message(self):\n",
        "        print(\"Welcome to Python Programming:\")\n",
        "    @staticmethod    \n",
        "    def fun_msg():\n",
        "        print(\"This is the static method in python:\")\n",
        "        \n",
        "Employee1.fun_msg()  \n",
        "emp = Employee1()\n",
        "emp.fun_message()\n",
        "\n",
        "#Constructor cannot be final, because it can’t be inherited/overridden. \n",
        "# static is used for memory management, it means same variable or\n",
        "# method will be shared between all instances of a class. \n",
        "# Constructor cannot be static because it cannot be call as method or variable, \n",
        "# so no need to placing a static variable before constructor.\n",
        "print(\"\\n\")\n",
        "class Animal:\n",
        "    def speak(self):\n",
        "        print(\"Animal Speaking : \")\n",
        "class Dog(Animal):\n",
        "    def bark(self):\n",
        "        print(\"Dod Barking : \")\n",
        "class DogChild(Dog):\n",
        "    def eat(self):\n",
        "        print(\"Eating Bread : \")\n",
        "        \n",
        "        \n",
        "obj = DogChild()\n",
        "obj.speak()\n",
        "obj.bark()\n",
        "obj.eat()\n",
        "print(\"\\n\")\n",
        "class Calculation1:\n",
        "    def summation(self, a , b):\n",
        "        return a + b\n",
        "class Calculation2:\n",
        "    def multiplication(self, a, b):\n",
        "        return a*b\n",
        "class Derived(Calculation1, Calculation2):\n",
        "    def division(self, a, b):\n",
        "        return a/b\n",
        "# creating the objectof derived class\n",
        "mulLevel = Derived()\n",
        "print(\"Summation : \",mulLevel.summation(2,4))\n",
        "print(\"Multiplication : \", mulLevel.multiplication(2,4))\n",
        "print(\"Division : \",mulLevel.division(4,2))\n",
        "\n",
        "print(\"\\n\")\n",
        "class Animal:\n",
        "    def speak(self):\n",
        "        print(\"Speaking\")\n",
        "class Dog(Animal):\n",
        "    def speak(self):\n",
        "        print(\"Barking\")\n",
        "overloading = Dog()\n",
        "overloading.speak()\n",
        "\n",
        "print()\n",
        "# Encapsulationcn\n",
        "class Computer:\n",
        "    def __init__(self):\n",
        "        self.__price = 900\n",
        "    def sell(self):\n",
        "        print(\"Selling Price : \", self.__price)\n",
        "    def setmaxPrice(self, price):\n",
        "        self.__price = price\n",
        "C = Computer()\n",
        "C.sell()\n",
        "C.__price = 1000\n",
        "C.sell()\n",
        "C.setmaxPrice(1000)\n",
        "C.sell()"
      ],
      "execution_count": 50,
      "outputs": [
        {
          "output_type": "stream",
          "text": [
            "Hello world\n",
            "Id : 101 \n",
            "Name : John\n",
            "Id : 102 \n",
            "Name : Raghav\n",
            "\n",
            "\n",
            "Car Model : Toyota and year : 2020\n",
            "Car Model : Maruti and year : 1996\n",
            "\n",
            "\n",
            "This is the static method in python:\n",
            "Welcome to Python Programming:\n",
            "\n",
            "\n",
            "Animal Speaking : \n",
            "Dod Barking : \n",
            "Eating Bread : \n",
            "\n",
            "\n",
            "Summation :  6\n",
            "Multiplication :  8\n",
            "Division :  2.0\n",
            "\n",
            "\n",
            "Barking\n",
            "\n",
            "Selling Price :  900\n",
            "Selling Price :  900\n",
            "Selling Price :  1000\n"
          ],
          "name": "stdout"
        }
      ]
    },
    {
      "cell_type": "code",
      "metadata": {
        "id": "NMfFyiMVzcaO"
      },
      "source": [
        ""
      ],
      "execution_count": 50,
      "outputs": []
    }
  ]
}